{
 "cells": [
  {
   "cell_type": "code",
   "execution_count": 1,
   "id": "48ae60ff",
   "metadata": {},
   "outputs": [],
   "source": [
    "import numpy as np\n",
    "import pandas as pd"
   ]
  },
  {
   "cell_type": "code",
   "execution_count": 2,
   "id": "9a9f7b42",
   "metadata": {},
   "outputs": [
    {
     "name": "stdout",
     "output_type": "stream",
     "text": [
      "<class 'pandas.core.frame.DataFrame'>\n",
      "RangeIndex: 1599 entries, 0 to 1598\n",
      "Data columns (total 12 columns):\n",
      " #   Column                Non-Null Count  Dtype  \n",
      "---  ------                --------------  -----  \n",
      " 0   fixed acidity         1599 non-null   float64\n",
      " 1   volatile acidity      1599 non-null   float64\n",
      " 2   citric acid           1599 non-null   float64\n",
      " 3   residual sugar        1599 non-null   float64\n",
      " 4   chlorides             1599 non-null   float64\n",
      " 5   free sulfur dioxide   1599 non-null   float64\n",
      " 6   total sulfur dioxide  1599 non-null   float64\n",
      " 7   density               1599 non-null   float64\n",
      " 8   pH                    1599 non-null   float64\n",
      " 9   sulphates             1599 non-null   float64\n",
      " 10  alcohol               1599 non-null   float64\n",
      " 11  quality               1599 non-null   object \n",
      "dtypes: float64(11), object(1)\n",
      "memory usage: 150.0+ KB\n"
     ]
    },
    {
     "data": {
      "text/plain": [
       "good    855\n",
       "bad     744\n",
       "Name: quality, dtype: int64"
      ]
     },
     "execution_count": 2,
     "metadata": {},
     "output_type": "execute_result"
    }
   ],
   "source": [
    "data=pd.read_csv(\"E:\\Datasets\\wine quality data.csv\")\n",
    "\n",
    "data.head()\n",
    "\n",
    "data.info()\n",
    "\n",
    "data.isna().sum()\n",
    "\n",
    "data.duplicated().sum()\n",
    "\n",
    "data.describe()\n",
    "\n",
    "data.columns\n",
    "\n",
    "data.quality.value_counts()\n"
   ]
  },
  {
   "cell_type": "code",
   "execution_count": 3,
   "id": "355c5cff",
   "metadata": {},
   "outputs": [],
   "source": [
    "from sklearn.preprocessing import LabelEncoder\n",
    "la=LabelEncoder()\n",
    "data['quality']=la.fit_transform(data['quality'])"
   ]
  },
  {
   "cell_type": "code",
   "execution_count": 4,
   "id": "a18e5b09",
   "metadata": {},
   "outputs": [],
   "source": [
    "x=data.iloc[:,:-1].values\n",
    "y=data.iloc[:,-1].values\n",
    "# y.value_counts()"
   ]
  },
  {
   "cell_type": "code",
   "execution_count": 5,
   "id": "c99abf67",
   "metadata": {},
   "outputs": [
    {
     "name": "stdout",
     "output_type": "stream",
     "text": [
      "Counter({0: 855, 1: 855})\n"
     ]
    }
   ],
   "source": [
    "from imblearn.over_sampling import SMOTE\n",
    "from collections import Counter\n",
    "sm=SMOTE()\n",
    "x_res,y_data=sm.fit_resample(x,y)\n",
    "print(Counter(y_data))\n",
    "# y_data.value_counts()"
   ]
  },
  {
   "cell_type": "code",
   "execution_count": null,
   "id": "1321a996",
   "metadata": {},
   "outputs": [],
   "source": []
  },
  {
   "cell_type": "code",
   "execution_count": 6,
   "id": "52d47806",
   "metadata": {},
   "outputs": [],
   "source": [
    "from sklearn.preprocessing import StandardScaler\n",
    "ss=StandardScaler()\n",
    "x_data=ss.fit_transform(x_res)"
   ]
  },
  {
   "cell_type": "code",
   "execution_count": 7,
   "id": "4f5224f5",
   "metadata": {},
   "outputs": [],
   "source": [
    "from sklearn.model_selection import train_test_split\n",
    "\n",
    "\n",
    "x_train,x_test,y_train,y_test=train_test_split(x_data,y_data,test_size=0.2,random_state=5)\n",
    "# print(y_train.value_counts())\n",
    "# print(y_test.value_counts())"
   ]
  },
  {
   "cell_type": "code",
   "execution_count": 8,
   "id": "b9d83ed8",
   "metadata": {},
   "outputs": [
    {
     "name": "stdout",
     "output_type": "stream",
     "text": [
      "          0\n",
      "0  0.279677\n",
      "1  0.180783\n",
      "2  0.141654\n",
      "3  0.107549\n"
     ]
    }
   ],
   "source": [
    "# Use PAC\n",
    "#Using Principal Dimensional Reduction\n",
    "from sklearn.decomposition import PCA\n",
    "pca = PCA(n_components = 4)\n",
    "x_train = pca.fit_transform(x_train)\n",
    "x_test = pca.transform(x_test)\n",
    "explained_variance = pca.explained_variance_ratio_\n",
    "print(pd.DataFrame(explained_variance))\n"
   ]
  },
  {
   "cell_type": "code",
   "execution_count": 9,
   "id": "e5cee6f5",
   "metadata": {},
   "outputs": [
    {
     "name": "stdout",
     "output_type": "stream",
     "text": [
      "[[ 3.83158986  1.16916661  0.70636686  6.16974949]\n",
      " [ 3.32481286  1.12445477  3.21454342  4.53796927]\n",
      " [ 1.0566871   0.91026354  0.21700088 -0.71338487]\n",
      " ...\n",
      " [-1.0888406   0.46621799 -0.46541589  0.16142252]\n",
      " [ 1.60907485 -2.21831295  0.32284853  0.02366683]\n",
      " [ 2.63217794  2.08055338  1.02364681  3.75208787]]\n"
     ]
    }
   ],
   "source": [
    "print(x_test)"
   ]
  },
  {
   "cell_type": "code",
   "execution_count": 10,
   "id": "a8b31e5f",
   "metadata": {},
   "outputs": [],
   "source": [
    "from sklearn.linear_model import LogisticRegression\n",
    "from sklearn.neighbors import KNeighborsClassifier\n",
    "from sklearn.ensemble import RandomForestClassifier\n",
    "from sklearn.svm import SVC\n",
    "from collections import Counter\n",
    "l=LogisticRegression(random_state=0)\n",
    "k=KNeighborsClassifier()\n",
    "s=SVC(random_state = 0, kernel = 'linear')\n",
    "r= RandomForestClassifier()  "
   ]
  },
  {
   "cell_type": "code",
   "execution_count": 11,
   "id": "b002bd2e",
   "metadata": {},
   "outputs": [
    {
     "name": "stdout",
     "output_type": "stream",
     "text": [
      "LogisticRegression(random_state=0)\n",
      "KNeighborsClassifier()\n",
      "SVC(kernel='linear', random_state=0)\n",
      "RandomForestClassifier()\n"
     ]
    }
   ],
   "source": [
    "print(l.fit(x_train,y_train))\n",
    "print(k.fit(x_train,y_train))\n",
    "print(s.fit(x_train,y_train))\n",
    "print(r.fit(x_train,y_train))\n"
   ]
  },
  {
   "cell_type": "code",
   "execution_count": 12,
   "id": "d88dd795",
   "metadata": {},
   "outputs": [],
   "source": [
    "# x_sample=x_data.iloc[[5,6,7,8,1340,1131,1153,1240],:]\n",
    "# y_sample=y_data.iloc[[5,6,7,8,1000,1111,1123,1245]]\n",
    "# y_sample\n",
    "\n",
    "# y_spred=k.predict(x_sample)\n",
    "# print(y_spred)\n"
   ]
  },
  {
   "cell_type": "code",
   "execution_count": 13,
   "id": "e4d5bd8d",
   "metadata": {},
   "outputs": [],
   "source": [
    "# from sklearn.metrics import accuracy_score\n",
    "# y_pred=k.predict(x_test)\n",
    "# ac=accuracy_score(y_test,y_pred)*100\n",
    "# print(ac)\n",
    "# print(y_pred)"
   ]
  },
  {
   "cell_type": "code",
   "execution_count": 14,
   "id": "5e5ccb0c",
   "metadata": {},
   "outputs": [
    {
     "name": "stdout",
     "output_type": "stream",
     "text": [
      "LogisticRegression \n",
      "               precision    recall  f1-score   support\n",
      "\n",
      "           0       0.73      0.81      0.77       185\n",
      "           1       0.74      0.66      0.70       157\n",
      "\n",
      "    accuracy                           0.74       342\n",
      "   macro avg       0.74      0.73      0.73       342\n",
      "weighted avg       0.74      0.74      0.73       342\n",
      "\n",
      "[[149  36]\n",
      " [ 54 103]]\n",
      "KNeighborsClassifier \n",
      "               precision    recall  f1-score   support\n",
      "\n",
      "           0       0.72      0.74      0.73       185\n",
      "           1       0.68      0.66      0.67       157\n",
      "\n",
      "    accuracy                           0.70       342\n",
      "   macro avg       0.70      0.70      0.70       342\n",
      "weighted avg       0.70      0.70      0.70       342\n",
      "\n",
      "[[137  48]\n",
      " [ 53 104]]\n",
      "SVC \n",
      "               precision    recall  f1-score   support\n",
      "\n",
      "           0       0.72      0.83      0.77       185\n",
      "           1       0.75      0.62      0.68       157\n",
      "\n",
      "    accuracy                           0.73       342\n",
      "   macro avg       0.74      0.72      0.72       342\n",
      "weighted avg       0.73      0.73      0.73       342\n",
      "\n",
      "[[153  32]\n",
      " [ 60  97]]\n",
      "RandomForestClassifier \n",
      "               precision    recall  f1-score   support\n",
      "\n",
      "           0       0.82      0.85      0.83       185\n",
      "           1       0.81      0.78      0.79       157\n",
      "\n",
      "    accuracy                           0.82       342\n",
      "   macro avg       0.82      0.81      0.81       342\n",
      "weighted avg       0.82      0.82      0.82       342\n",
      "\n",
      "[[157  28]\n",
      " [ 35 122]]\n"
     ]
    }
   ],
   "source": [
    "from sklearn.metrics import classification_report,confusion_matrix\n",
    "for cls in (l,k,s,r):\n",
    "    y_pred=cls.predict(x_test)\n",
    "    cl=classification_report(y_test,y_pred)\n",
    "    print(cls.__class__.__name__,'\\n',(cl))\n",
    "    print(confusion_matrix(y_test,y_pred))"
   ]
  },
  {
   "cell_type": "code",
   "execution_count": 15,
   "id": "6b3e14f5",
   "metadata": {},
   "outputs": [
    {
     "name": "stdout",
     "output_type": "stream",
     "text": [
      "LogisticRegression \n",
      " Accuracy score:  0.7368421052631579 \n",
      " Precision score:  0.7410071942446043 \n",
      " Recall score:  0.6560509554140127 \n",
      " F1 score:  0.6959459459459459 \n",
      " ROC AUC score:  0.7307281804097091 \n",
      "\n",
      "KNeighborsClassifier \n",
      " Accuracy score:  0.7046783625730995 \n",
      " Precision score:  0.6842105263157895 \n",
      " Recall score:  0.6624203821656051 \n",
      " F1 score:  0.6731391585760518 \n",
      " ROC AUC score:  0.7014804613530727 \n",
      "\n",
      "SVC \n",
      " Accuracy score:  0.7309941520467836 \n",
      " Precision score:  0.751937984496124 \n",
      " Recall score:  0.6178343949044586 \n",
      " F1 score:  0.6783216783216782 \n",
      " ROC AUC score:  0.7224307109657429 \n",
      "\n",
      "RandomForestClassifier \n",
      " Accuracy score:  0.8157894736842105 \n",
      " Precision score:  0.8133333333333334 \n",
      " Recall score:  0.7770700636942676 \n",
      " F1 score:  0.7947882736156353 \n",
      " ROC AUC score:  0.8128593561714581 \n",
      "\n"
     ]
    }
   ],
   "source": [
    "from sklearn.metrics import accuracy_score, precision_score, recall_score, confusion_matrix, f1_score, roc_auc_score\n",
    "for cls in (l,k,s,r):\n",
    "    y_pred = cls.predict(x_test)\n",
    "    print(\n",
    "        cls.__class__.__name__,\n",
    "        '\\n',\n",
    "        'Accuracy score: ',accuracy_score(y_test, y_pred), '\\n',\n",
    "        'Precision score: ',precision_score(y_test, y_pred, zero_division = 1), '\\n',\n",
    "        'Recall score: ',recall_score(y_test, y_pred, zero_division = 1), '\\n',\n",
    "        'F1 score: ',f1_score(y_test, y_pred, zero_division = 1), '\\n',\n",
    "        'ROC AUC score: ',roc_auc_score(y_test, y_pred), '\\n', \n",
    "\n",
    "    )"
   ]
  },
  {
   "cell_type": "code",
   "execution_count": null,
   "id": "ac4c5724",
   "metadata": {},
   "outputs": [],
   "source": []
  }
 ],
 "metadata": {
  "kernelspec": {
   "display_name": "Python 3 (ipykernel)",
   "language": "python",
   "name": "python3"
  },
  "language_info": {
   "codemirror_mode": {
    "name": "ipython",
    "version": 3
   },
   "file_extension": ".py",
   "mimetype": "text/x-python",
   "name": "python",
   "nbconvert_exporter": "python",
   "pygments_lexer": "ipython3",
   "version": "3.9.13"
  }
 },
 "nbformat": 4,
 "nbformat_minor": 5
}
