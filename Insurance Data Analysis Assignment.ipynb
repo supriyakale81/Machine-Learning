{
 "cells": [
  {
   "cell_type": "code",
   "execution_count": 1,
   "id": "910fdfd0",
   "metadata": {},
   "outputs": [],
   "source": [
    "import numpy as np\n",
    "import pandas as pd"
   ]
  },
  {
   "cell_type": "code",
   "execution_count": 2,
   "id": "2fee42b1",
   "metadata": {},
   "outputs": [
    {
     "data": {
      "text/html": [
       "<div>\n",
       "<style scoped>\n",
       "    .dataframe tbody tr th:only-of-type {\n",
       "        vertical-align: middle;\n",
       "    }\n",
       "\n",
       "    .dataframe tbody tr th {\n",
       "        vertical-align: top;\n",
       "    }\n",
       "\n",
       "    .dataframe thead th {\n",
       "        text-align: right;\n",
       "    }\n",
       "</style>\n",
       "<table border=\"1\" class=\"dataframe\">\n",
       "  <thead>\n",
       "    <tr style=\"text-align: right;\">\n",
       "      <th></th>\n",
       "      <th>age</th>\n",
       "      <th>sex</th>\n",
       "      <th>bmi</th>\n",
       "      <th>children</th>\n",
       "      <th>smoker</th>\n",
       "      <th>region</th>\n",
       "      <th>charges</th>\n",
       "    </tr>\n",
       "  </thead>\n",
       "  <tbody>\n",
       "    <tr>\n",
       "      <th>0</th>\n",
       "      <td>19</td>\n",
       "      <td>female</td>\n",
       "      <td>27.900</td>\n",
       "      <td>0</td>\n",
       "      <td>yes</td>\n",
       "      <td>southwest</td>\n",
       "      <td>16884.92400</td>\n",
       "    </tr>\n",
       "    <tr>\n",
       "      <th>1</th>\n",
       "      <td>18</td>\n",
       "      <td>male</td>\n",
       "      <td>33.770</td>\n",
       "      <td>1</td>\n",
       "      <td>no</td>\n",
       "      <td>southeast</td>\n",
       "      <td>1725.55230</td>\n",
       "    </tr>\n",
       "    <tr>\n",
       "      <th>2</th>\n",
       "      <td>28</td>\n",
       "      <td>male</td>\n",
       "      <td>33.000</td>\n",
       "      <td>3</td>\n",
       "      <td>no</td>\n",
       "      <td>southeast</td>\n",
       "      <td>4449.46200</td>\n",
       "    </tr>\n",
       "    <tr>\n",
       "      <th>3</th>\n",
       "      <td>33</td>\n",
       "      <td>male</td>\n",
       "      <td>22.705</td>\n",
       "      <td>0</td>\n",
       "      <td>no</td>\n",
       "      <td>northwest</td>\n",
       "      <td>21984.47061</td>\n",
       "    </tr>\n",
       "    <tr>\n",
       "      <th>4</th>\n",
       "      <td>32</td>\n",
       "      <td>male</td>\n",
       "      <td>28.880</td>\n",
       "      <td>0</td>\n",
       "      <td>no</td>\n",
       "      <td>northwest</td>\n",
       "      <td>3866.85520</td>\n",
       "    </tr>\n",
       "  </tbody>\n",
       "</table>\n",
       "</div>"
      ],
      "text/plain": [
       "   age     sex     bmi  children smoker     region      charges\n",
       "0   19  female  27.900         0    yes  southwest  16884.92400\n",
       "1   18    male  33.770         1     no  southeast   1725.55230\n",
       "2   28    male  33.000         3     no  southeast   4449.46200\n",
       "3   33    male  22.705         0     no  northwest  21984.47061\n",
       "4   32    male  28.880         0     no  northwest   3866.85520"
      ]
     },
     "execution_count": 2,
     "metadata": {},
     "output_type": "execute_result"
    }
   ],
   "source": [
    "data=pd.read_csv(\"E:\\Datasets\\medical_insurance.csv\")\n",
    "data.head()"
   ]
  },
  {
   "cell_type": "code",
   "execution_count": 3,
   "id": "79255ae0",
   "metadata": {},
   "outputs": [
    {
     "name": "stdout",
     "output_type": "stream",
     "text": [
      "<class 'pandas.core.frame.DataFrame'>\n",
      "RangeIndex: 1338 entries, 0 to 1337\n",
      "Data columns (total 7 columns):\n",
      " #   Column    Non-Null Count  Dtype  \n",
      "---  ------    --------------  -----  \n",
      " 0   age       1338 non-null   int64  \n",
      " 1   sex       1338 non-null   object \n",
      " 2   bmi       1338 non-null   float64\n",
      " 3   children  1338 non-null   int64  \n",
      " 4   smoker    1338 non-null   object \n",
      " 5   region    1338 non-null   object \n",
      " 6   charges   1338 non-null   float64\n",
      "dtypes: float64(2), int64(2), object(3)\n",
      "memory usage: 73.3+ KB\n"
     ]
    }
   ],
   "source": [
    "data.info()"
   ]
  },
  {
   "cell_type": "code",
   "execution_count": 4,
   "id": "ba0c39ee",
   "metadata": {},
   "outputs": [
    {
     "data": {
      "text/plain": [
       "(1338, 7)"
      ]
     },
     "execution_count": 4,
     "metadata": {},
     "output_type": "execute_result"
    }
   ],
   "source": [
    "data.shape"
   ]
  },
  {
   "cell_type": "code",
   "execution_count": 5,
   "id": "84a7306b",
   "metadata": {},
   "outputs": [
    {
     "data": {
      "text/plain": [
       "age         0\n",
       "sex         0\n",
       "bmi         0\n",
       "children    0\n",
       "smoker      0\n",
       "region      0\n",
       "charges     0\n",
       "dtype: int64"
      ]
     },
     "execution_count": 5,
     "metadata": {},
     "output_type": "execute_result"
    }
   ],
   "source": [
    "# Check missing values\n",
    "data.isna().sum()"
   ]
  },
  {
   "cell_type": "code",
   "execution_count": 6,
   "id": "215d6ba3",
   "metadata": {},
   "outputs": [
    {
     "data": {
      "text/plain": [
       "Index(['age', 'sex', 'bmi', 'children', 'smoker', 'region', 'charges'], dtype='object')"
      ]
     },
     "execution_count": 6,
     "metadata": {},
     "output_type": "execute_result"
    }
   ],
   "source": [
    "data.columns"
   ]
  },
  {
   "cell_type": "code",
   "execution_count": 7,
   "id": "c7b8fe02",
   "metadata": {},
   "outputs": [
    {
     "data": {
      "text/plain": [
       "array(['southwest', 'southeast', 'northwest', 'northeast'], dtype=object)"
      ]
     },
     "execution_count": 7,
     "metadata": {},
     "output_type": "execute_result"
    }
   ],
   "source": [
    "data.region.unique()"
   ]
  },
  {
   "cell_type": "markdown",
   "id": "a0962127",
   "metadata": {},
   "source": [
    "### 1) the average charges of the southest and northest female medical insurance "
   ]
  },
  {
   "cell_type": "code",
   "execution_count": 8,
   "id": "d9044954",
   "metadata": {},
   "outputs": [
    {
     "data": {
      "text/html": [
       "<div>\n",
       "<style scoped>\n",
       "    .dataframe tbody tr th:only-of-type {\n",
       "        vertical-align: middle;\n",
       "    }\n",
       "\n",
       "    .dataframe tbody tr th {\n",
       "        vertical-align: top;\n",
       "    }\n",
       "\n",
       "    .dataframe thead th {\n",
       "        text-align: right;\n",
       "    }\n",
       "</style>\n",
       "<table border=\"1\" class=\"dataframe\">\n",
       "  <thead>\n",
       "    <tr style=\"text-align: right;\">\n",
       "      <th></th>\n",
       "      <th>age</th>\n",
       "      <th>sex</th>\n",
       "      <th>bmi</th>\n",
       "      <th>children</th>\n",
       "      <th>smoker</th>\n",
       "      <th>region</th>\n",
       "      <th>charges</th>\n",
       "    </tr>\n",
       "  </thead>\n",
       "  <tbody>\n",
       "    <tr>\n",
       "      <th>5</th>\n",
       "      <td>31</td>\n",
       "      <td>female</td>\n",
       "      <td>25.740</td>\n",
       "      <td>0</td>\n",
       "      <td>no</td>\n",
       "      <td>southeast</td>\n",
       "      <td>3756.62160</td>\n",
       "    </tr>\n",
       "    <tr>\n",
       "      <th>6</th>\n",
       "      <td>46</td>\n",
       "      <td>female</td>\n",
       "      <td>33.440</td>\n",
       "      <td>1</td>\n",
       "      <td>no</td>\n",
       "      <td>southeast</td>\n",
       "      <td>8240.58960</td>\n",
       "    </tr>\n",
       "    <tr>\n",
       "      <th>11</th>\n",
       "      <td>62</td>\n",
       "      <td>female</td>\n",
       "      <td>26.290</td>\n",
       "      <td>0</td>\n",
       "      <td>yes</td>\n",
       "      <td>southeast</td>\n",
       "      <td>27808.72510</td>\n",
       "    </tr>\n",
       "    <tr>\n",
       "      <th>13</th>\n",
       "      <td>56</td>\n",
       "      <td>female</td>\n",
       "      <td>39.820</td>\n",
       "      <td>0</td>\n",
       "      <td>no</td>\n",
       "      <td>southeast</td>\n",
       "      <td>11090.71780</td>\n",
       "    </tr>\n",
       "    <tr>\n",
       "      <th>16</th>\n",
       "      <td>52</td>\n",
       "      <td>female</td>\n",
       "      <td>30.780</td>\n",
       "      <td>1</td>\n",
       "      <td>no</td>\n",
       "      <td>northeast</td>\n",
       "      <td>10797.33620</td>\n",
       "    </tr>\n",
       "    <tr>\n",
       "      <th>...</th>\n",
       "      <td>...</td>\n",
       "      <td>...</td>\n",
       "      <td>...</td>\n",
       "      <td>...</td>\n",
       "      <td>...</td>\n",
       "      <td>...</td>\n",
       "      <td>...</td>\n",
       "    </tr>\n",
       "    <tr>\n",
       "      <th>1326</th>\n",
       "      <td>42</td>\n",
       "      <td>female</td>\n",
       "      <td>32.870</td>\n",
       "      <td>0</td>\n",
       "      <td>no</td>\n",
       "      <td>northeast</td>\n",
       "      <td>7050.02130</td>\n",
       "    </tr>\n",
       "    <tr>\n",
       "      <th>1328</th>\n",
       "      <td>23</td>\n",
       "      <td>female</td>\n",
       "      <td>24.225</td>\n",
       "      <td>2</td>\n",
       "      <td>no</td>\n",
       "      <td>northeast</td>\n",
       "      <td>22395.74424</td>\n",
       "    </tr>\n",
       "    <tr>\n",
       "      <th>1330</th>\n",
       "      <td>57</td>\n",
       "      <td>female</td>\n",
       "      <td>25.740</td>\n",
       "      <td>2</td>\n",
       "      <td>no</td>\n",
       "      <td>southeast</td>\n",
       "      <td>12629.16560</td>\n",
       "    </tr>\n",
       "    <tr>\n",
       "      <th>1334</th>\n",
       "      <td>18</td>\n",
       "      <td>female</td>\n",
       "      <td>31.920</td>\n",
       "      <td>0</td>\n",
       "      <td>no</td>\n",
       "      <td>northeast</td>\n",
       "      <td>2205.98080</td>\n",
       "    </tr>\n",
       "    <tr>\n",
       "      <th>1335</th>\n",
       "      <td>18</td>\n",
       "      <td>female</td>\n",
       "      <td>36.850</td>\n",
       "      <td>0</td>\n",
       "      <td>no</td>\n",
       "      <td>southeast</td>\n",
       "      <td>1629.83350</td>\n",
       "    </tr>\n",
       "  </tbody>\n",
       "</table>\n",
       "<p>336 rows × 7 columns</p>\n",
       "</div>"
      ],
      "text/plain": [
       "      age     sex     bmi  children smoker     region      charges\n",
       "5      31  female  25.740         0     no  southeast   3756.62160\n",
       "6      46  female  33.440         1     no  southeast   8240.58960\n",
       "11     62  female  26.290         0    yes  southeast  27808.72510\n",
       "13     56  female  39.820         0     no  southeast  11090.71780\n",
       "16     52  female  30.780         1     no  northeast  10797.33620\n",
       "...   ...     ...     ...       ...    ...        ...          ...\n",
       "1326   42  female  32.870         0     no  northeast   7050.02130\n",
       "1328   23  female  24.225         2     no  northeast  22395.74424\n",
       "1330   57  female  25.740         2     no  southeast  12629.16560\n",
       "1334   18  female  31.920         0     no  northeast   2205.98080\n",
       "1335   18  female  36.850         0     no  southeast   1629.83350\n",
       "\n",
       "[336 rows x 7 columns]"
      ]
     },
     "execution_count": 8,
     "metadata": {},
     "output_type": "execute_result"
    }
   ],
   "source": [
    "F_data=data.loc[(data['sex']==\"female\")&((data['region']=='southeast')|(data['region']=='northeast'))]\n",
    "F_data"
   ]
  },
  {
   "cell_type": "code",
   "execution_count": 9,
   "id": "10b563fc",
   "metadata": {},
   "outputs": [
    {
     "data": {
      "text/plain": [
       "array(['southeast', 'northeast'], dtype=object)"
      ]
     },
     "execution_count": 9,
     "metadata": {},
     "output_type": "execute_result"
    }
   ],
   "source": [
    "F_data.region.unique()"
   ]
  },
  {
   "cell_type": "code",
   "execution_count": 10,
   "id": "849391a2",
   "metadata": {},
   "outputs": [
    {
     "data": {
      "text/plain": [
       "array(['female'], dtype=object)"
      ]
     },
     "execution_count": 10,
     "metadata": {},
     "output_type": "execute_result"
    }
   ],
   "source": [
    "F_data.sex.unique()"
   ]
  },
  {
   "cell_type": "code",
   "execution_count": 11,
   "id": "cd420f43",
   "metadata": {},
   "outputs": [
    {
     "data": {
      "text/plain": [
       "region\n",
       "northeast    12953.20\n",
       "southeast    13499.67\n",
       "Name: charges, dtype: float64"
      ]
     },
     "execution_count": 11,
     "metadata": {},
     "output_type": "execute_result"
    }
   ],
   "source": [
    "F_data.groupby('region')['charges'].mean().round(2)"
   ]
  },
  {
   "cell_type": "markdown",
   "id": "8f147c14",
   "metadata": {},
   "source": [
    "#### Average charges of southeast female medical insurance=12953.20\n",
    "#### Average charges of northeast female medical insurance= 13499.67\n"
   ]
  },
  {
   "cell_type": "markdown",
   "id": "1d51d3b2",
   "metadata": {},
   "source": [
    "### 2)Analysis on male and female smokers in different region"
   ]
  },
  {
   "cell_type": "code",
   "execution_count": 12,
   "id": "51ce8e9f",
   "metadata": {},
   "outputs": [],
   "source": [
    "# import libraries\n",
    "import matplotlib.pyplot as plt\n",
    "import seaborn as sns"
   ]
  },
  {
   "cell_type": "code",
   "execution_count": 13,
   "id": "8d0ce1b8",
   "metadata": {},
   "outputs": [
    {
     "name": "stderr",
     "output_type": "stream",
     "text": [
      "C:\\Users\\pc\\anaconda3\\lib\\site-packages\\seaborn\\_decorators.py:36: FutureWarning: Pass the following variable as a keyword arg: x. From version 0.12, the only valid positional argument will be `data`, and passing other arguments without an explicit keyword will result in an error or misinterpretation.\n",
      "  warnings.warn(\n"
     ]
    },
    {
     "data": {
      "text/plain": [
       "<AxesSubplot:xlabel='sex', ylabel='count'>"
      ]
     },
     "execution_count": 13,
     "metadata": {},
     "output_type": "execute_result"
    },
    {
     "data": {
      "image/png": "[encoded data removed]",
      "text/plain": [
       "<Figure size 640x480 with 1 Axes>"
      ]
     },
     "metadata": {},
     "output_type": "display_data"
    }
   ],
   "source": [
    "\n",
    "sns.countplot('sex',hue='smoker',data=data)\n"
   ]
  },
  {
   "cell_type": "code",
   "execution_count": 14,
   "id": "05bb993d",
   "metadata": {},
   "outputs": [
    {
     "name": "stderr",
     "output_type": "stream",
     "text": [
      "C:\\Users\\pc\\anaconda3\\lib\\site-packages\\seaborn\\_decorators.py:36: FutureWarning: Pass the following variable as a keyword arg: x. From version 0.12, the only valid positional argument will be `data`, and passing other arguments without an explicit keyword will result in an error or misinterpretation.\n",
      "  warnings.warn(\n"
     ]
    },
    {
     "data": {
      "text/plain": [
       "<AxesSubplot:xlabel='region', ylabel='count'>"
      ]
     },
     "execution_count": 14,
     "metadata": {},
     "output_type": "execute_result"
    },
    {
     "data": {
      "image/png": "[encoded data removed]",
      "text/plain": [
       "<Figure size 640x480 with 1 Axes>"
      ]
     },
     "metadata": {},
     "output_type": "display_data"
    }
   ],
   "source": [
    "sns.countplot('region',hue='smoker',data=data)"
   ]
  },
  {
   "cell_type": "raw",
   "id": "dae1873c",
   "metadata": {},
   "source": [
    "# 3) Age Categoty\n",
    "0-15 --> Kid\n",
    "15-30 --> Teen\n",
    "30-50 --> Adult\n",
    "50-100 --> Old age"
   ]
  },
  {
   "cell_type": "code",
   "execution_count": 15,
   "id": "c9657ac4",
   "metadata": {},
   "outputs": [],
   "source": [
    "category=[]\n",
    "for x in data['age']:\n",
    "    if 0<=x<15:\n",
    "        category.append(\"Kid\")\n",
    "    elif 15<=x<30:\n",
    "        category.append(\"Teen\")\n",
    "    elif 30<=x<50:\n",
    "        category.append(\"Adult\")\n",
    "    elif 50<=x<100:\n",
    "        category.append('Old age')\n",
    "    else:\n",
    "        category.append(\"Not known\")\n",
    "        "
   ]
  },
  {
   "cell_type": "code",
   "execution_count": 16,
   "id": "7b9be841",
   "metadata": {},
   "outputs": [],
   "source": [
    "data.insert(1,\"age_category\",category)"
   ]
  },
  {
   "cell_type": "code",
   "execution_count": 17,
   "id": "30152bb4",
   "metadata": {},
   "outputs": [
    {
     "data": {
      "text/html": [
       "<div>\n",
       "<style scoped>\n",
       "    .dataframe tbody tr th:only-of-type {\n",
       "        vertical-align: middle;\n",
       "    }\n",
       "\n",
       "    .dataframe tbody tr th {\n",
       "        vertical-align: top;\n",
       "    }\n",
       "\n",
       "    .dataframe thead th {\n",
       "        text-align: right;\n",
       "    }\n",
       "</style>\n",
       "<table border=\"1\" class=\"dataframe\">\n",
       "  <thead>\n",
       "    <tr style=\"text-align: right;\">\n",
       "      <th></th>\n",
       "      <th>age</th>\n",
       "      <th>age_category</th>\n",
       "      <th>sex</th>\n",
       "      <th>bmi</th>\n",
       "      <th>children</th>\n",
       "      <th>smoker</th>\n",
       "      <th>region</th>\n",
       "      <th>charges</th>\n",
       "    </tr>\n",
       "  </thead>\n",
       "  <tbody>\n",
       "    <tr>\n",
       "      <th>0</th>\n",
       "      <td>19</td>\n",
       "      <td>Teen</td>\n",
       "      <td>female</td>\n",
       "      <td>27.900</td>\n",
       "      <td>0</td>\n",
       "      <td>yes</td>\n",
       "      <td>southwest</td>\n",
       "      <td>16884.92400</td>\n",
       "    </tr>\n",
       "    <tr>\n",
       "      <th>1</th>\n",
       "      <td>18</td>\n",
       "      <td>Teen</td>\n",
       "      <td>male</td>\n",
       "      <td>33.770</td>\n",
       "      <td>1</td>\n",
       "      <td>no</td>\n",
       "      <td>southeast</td>\n",
       "      <td>1725.55230</td>\n",
       "    </tr>\n",
       "    <tr>\n",
       "      <th>2</th>\n",
       "      <td>28</td>\n",
       "      <td>Teen</td>\n",
       "      <td>male</td>\n",
       "      <td>33.000</td>\n",
       "      <td>3</td>\n",
       "      <td>no</td>\n",
       "      <td>southeast</td>\n",
       "      <td>4449.46200</td>\n",
       "    </tr>\n",
       "    <tr>\n",
       "      <th>3</th>\n",
       "      <td>33</td>\n",
       "      <td>Adult</td>\n",
       "      <td>male</td>\n",
       "      <td>22.705</td>\n",
       "      <td>0</td>\n",
       "      <td>no</td>\n",
       "      <td>northwest</td>\n",
       "      <td>21984.47061</td>\n",
       "    </tr>\n",
       "    <tr>\n",
       "      <th>4</th>\n",
       "      <td>32</td>\n",
       "      <td>Adult</td>\n",
       "      <td>male</td>\n",
       "      <td>28.880</td>\n",
       "      <td>0</td>\n",
       "      <td>no</td>\n",
       "      <td>northwest</td>\n",
       "      <td>3866.85520</td>\n",
       "    </tr>\n",
       "  </tbody>\n",
       "</table>\n",
       "</div>"
      ],
      "text/plain": [
       "   age age_category     sex     bmi  children smoker     region      charges\n",
       "0   19         Teen  female  27.900         0    yes  southwest  16884.92400\n",
       "1   18         Teen    male  33.770         1     no  southeast   1725.55230\n",
       "2   28         Teen    male  33.000         3     no  southeast   4449.46200\n",
       "3   33        Adult    male  22.705         0     no  northwest  21984.47061\n",
       "4   32        Adult    male  28.880         0     no  northwest   3866.85520"
      ]
     },
     "execution_count": 17,
     "metadata": {},
     "output_type": "execute_result"
    }
   ],
   "source": [
    "data.head()"
   ]
  },
  {
   "cell_type": "code",
   "execution_count": 18,
   "id": "1ff77d6e",
   "metadata": {},
   "outputs": [
    {
     "data": {
      "text/plain": [
       "array(['Teen', 'Adult', 'Old age'], dtype=object)"
      ]
     },
     "execution_count": 18,
     "metadata": {},
     "output_type": "execute_result"
    }
   ],
   "source": [
    "data.age_category.unique()"
   ]
  },
  {
   "cell_type": "markdown",
   "id": "12206b3d",
   "metadata": {},
   "source": [
    "### the female and male medical average cost by category"
   ]
  },
  {
   "cell_type": "code",
   "execution_count": 19,
   "id": "55529752",
   "metadata": {},
   "outputs": [
    {
     "data": {
      "text/plain": [
       "sex     age_category\n",
       "female  Adult           12244.955\n",
       "        Old age         17144.973\n",
       "        Teen             8560.365\n",
       "male    Adult           13989.212\n",
       "        Old age         18680.067\n",
       "        Teen             9761.406\n",
       "Name: charges, dtype: float64"
      ]
     },
     "execution_count": 19,
     "metadata": {},
     "output_type": "execute_result"
    }
   ],
   "source": [
    "data.groupby(['sex','age_category'])['charges'].mean().round(3)"
   ]
  },
  {
   "cell_type": "code",
   "execution_count": 20,
   "id": "c41f276f",
   "metadata": {},
   "outputs": [
    {
     "data": {
      "text/html": [
       "<div>\n",
       "<style scoped>\n",
       "    .dataframe tbody tr th:only-of-type {\n",
       "        vertical-align: middle;\n",
       "    }\n",
       "\n",
       "    .dataframe tbody tr th {\n",
       "        vertical-align: top;\n",
       "    }\n",
       "\n",
       "    .dataframe thead tr th {\n",
       "        text-align: left;\n",
       "    }\n",
       "\n",
       "    .dataframe thead tr:last-of-type th {\n",
       "        text-align: right;\n",
       "    }\n",
       "</style>\n",
       "<table border=\"1\" class=\"dataframe\">\n",
       "  <thead>\n",
       "    <tr>\n",
       "      <th></th>\n",
       "      <th colspan=\"3\" halign=\"left\">charges</th>\n",
       "    </tr>\n",
       "    <tr>\n",
       "      <th>age_category</th>\n",
       "      <th>Adult</th>\n",
       "      <th>Old age</th>\n",
       "      <th>Teen</th>\n",
       "    </tr>\n",
       "    <tr>\n",
       "      <th>sex</th>\n",
       "      <th></th>\n",
       "      <th></th>\n",
       "      <th></th>\n",
       "    </tr>\n",
       "  </thead>\n",
       "  <tbody>\n",
       "    <tr>\n",
       "      <th>female</th>\n",
       "      <td>12244.954942</td>\n",
       "      <td>17144.973500</td>\n",
       "      <td>8560.364914</td>\n",
       "    </tr>\n",
       "    <tr>\n",
       "      <th>male</th>\n",
       "      <td>13989.212215</td>\n",
       "      <td>18680.066919</td>\n",
       "      <td>9761.406405</td>\n",
       "    </tr>\n",
       "  </tbody>\n",
       "</table>\n",
       "</div>"
      ],
      "text/plain": [
       "                   charges                           \n",
       "age_category         Adult       Old age         Teen\n",
       "sex                                                  \n",
       "female        12244.954942  17144.973500  8560.364914\n",
       "male          13989.212215  18680.066919  9761.406405"
      ]
     },
     "execution_count": 20,
     "metadata": {},
     "output_type": "execute_result"
    }
   ],
   "source": [
    "pd.pivot_table(index=['sex'],columns=['age_category'],values=['charges'],aggfunc=(\"mean\"),data=data)"
   ]
  },
  {
   "cell_type": "markdown",
   "id": "94c4f9e6",
   "metadata": {},
   "source": [
    "### the female and male medical count cost by category"
   ]
  },
  {
   "cell_type": "code",
   "execution_count": 21,
   "id": "2312e52c",
   "metadata": {},
   "outputs": [
    {
     "data": {
      "text/html": [
       "<div>\n",
       "<style scoped>\n",
       "    .dataframe tbody tr th:only-of-type {\n",
       "        vertical-align: middle;\n",
       "    }\n",
       "\n",
       "    .dataframe tbody tr th {\n",
       "        vertical-align: top;\n",
       "    }\n",
       "\n",
       "    .dataframe thead tr th {\n",
       "        text-align: left;\n",
       "    }\n",
       "\n",
       "    .dataframe thead tr:last-of-type th {\n",
       "        text-align: right;\n",
       "    }\n",
       "</style>\n",
       "<table border=\"1\" class=\"dataframe\">\n",
       "  <thead>\n",
       "    <tr>\n",
       "      <th></th>\n",
       "      <th colspan=\"3\" halign=\"left\">charges</th>\n",
       "    </tr>\n",
       "    <tr>\n",
       "      <th>age_category</th>\n",
       "      <th>Adult</th>\n",
       "      <th>Old age</th>\n",
       "      <th>Teen</th>\n",
       "    </tr>\n",
       "    <tr>\n",
       "      <th>sex</th>\n",
       "      <th></th>\n",
       "      <th></th>\n",
       "      <th></th>\n",
       "    </tr>\n",
       "  </thead>\n",
       "  <tbody>\n",
       "    <tr>\n",
       "      <th>female</th>\n",
       "      <td>3.257158e+06</td>\n",
       "      <td>3.343270e+06</td>\n",
       "      <td>1.720633e+06</td>\n",
       "    </tr>\n",
       "    <tr>\n",
       "      <th>male</th>\n",
       "      <td>3.777087e+06</td>\n",
       "      <td>3.549213e+06</td>\n",
       "      <td>2.108464e+06</td>\n",
       "    </tr>\n",
       "  </tbody>\n",
       "</table>\n",
       "</div>"
      ],
      "text/plain": [
       "                   charges                            \n",
       "age_category         Adult       Old age          Teen\n",
       "sex                                                   \n",
       "female        3.257158e+06  3.343270e+06  1.720633e+06\n",
       "male          3.777087e+06  3.549213e+06  2.108464e+06"
      ]
     },
     "execution_count": 21,
     "metadata": {},
     "output_type": "execute_result"
    }
   ],
   "source": [
    "pd.pivot_table(index=['sex'],columns=['age_category'],values=['charges'],aggfunc=(\"sum\"),data=data)"
   ]
  },
  {
   "cell_type": "code",
   "execution_count": 22,
   "id": "1180a716",
   "metadata": {},
   "outputs": [
    {
     "data": {
      "text/html": [
       "<div>\n",
       "<style scoped>\n",
       "    .dataframe tbody tr th:only-of-type {\n",
       "        vertical-align: middle;\n",
       "    }\n",
       "\n",
       "    .dataframe tbody tr th {\n",
       "        vertical-align: top;\n",
       "    }\n",
       "\n",
       "    .dataframe thead tr th {\n",
       "        text-align: left;\n",
       "    }\n",
       "\n",
       "    .dataframe thead tr:last-of-type th {\n",
       "        text-align: right;\n",
       "    }\n",
       "</style>\n",
       "<table border=\"1\" class=\"dataframe\">\n",
       "  <thead>\n",
       "    <tr>\n",
       "      <th></th>\n",
       "      <th colspan=\"3\" halign=\"left\">charges</th>\n",
       "    </tr>\n",
       "    <tr>\n",
       "      <th>age_category</th>\n",
       "      <th>Adult</th>\n",
       "      <th>Old age</th>\n",
       "      <th>Teen</th>\n",
       "    </tr>\n",
       "    <tr>\n",
       "      <th>sex</th>\n",
       "      <th></th>\n",
       "      <th></th>\n",
       "      <th></th>\n",
       "    </tr>\n",
       "  </thead>\n",
       "  <tbody>\n",
       "    <tr>\n",
       "      <th>female</th>\n",
       "      <td>266</td>\n",
       "      <td>195</td>\n",
       "      <td>201</td>\n",
       "    </tr>\n",
       "    <tr>\n",
       "      <th>male</th>\n",
       "      <td>270</td>\n",
       "      <td>190</td>\n",
       "      <td>216</td>\n",
       "    </tr>\n",
       "  </tbody>\n",
       "</table>\n",
       "</div>"
      ],
      "text/plain": [
       "             charges             \n",
       "age_category   Adult Old age Teen\n",
       "sex                              \n",
       "female           266     195  201\n",
       "male             270     190  216"
      ]
     },
     "execution_count": 22,
     "metadata": {},
     "output_type": "execute_result"
    }
   ],
   "source": [
    "pd.pivot_table(index=['sex'],columns=['age_category'],values=['charges'],aggfunc=(\"count\"),data=data)"
   ]
  },
  {
   "cell_type": "code",
   "execution_count": 23,
   "id": "4b040c24",
   "metadata": {},
   "outputs": [
    {
     "data": {
      "text/plain": [
       "sex     age_category\n",
       "female  Adult           3257158.015\n",
       "        Old age         3343269.832\n",
       "        Teen            1720633.348\n",
       "male    Adult           3777087.298\n",
       "        Old age         3549212.715\n",
       "        Teen            2108463.784\n",
       "Name: charges, dtype: float64"
      ]
     },
     "execution_count": 23,
     "metadata": {},
     "output_type": "execute_result"
    }
   ],
   "source": [
    "data.groupby(['sex','age_category'])['charges'].sum().round(3)"
   ]
  },
  {
   "cell_type": "markdown",
   "id": "2a101f0b",
   "metadata": {},
   "source": [
    "### the female and male medical minimum cost by category."
   ]
  },
  {
   "cell_type": "code",
   "execution_count": 24,
   "id": "30f54dae",
   "metadata": {},
   "outputs": [
    {
     "data": {
      "text/plain": [
       "sex     age_category\n",
       "female  Adult           3554.203\n",
       "        Old age         8932.084\n",
       "        Teen            1607.510\n",
       "male    Adult           3260.199\n",
       "        Old age         8442.667\n",
       "        Teen            1121.874\n",
       "Name: charges, dtype: float64"
      ]
     },
     "execution_count": 24,
     "metadata": {},
     "output_type": "execute_result"
    }
   ],
   "source": [
    "data.groupby(['sex','age_category'])['charges'].min().round(3)"
   ]
  },
  {
   "cell_type": "code",
   "execution_count": 25,
   "id": "c581fb99",
   "metadata": {},
   "outputs": [
    {
     "data": {
      "text/html": [
       "<div>\n",
       "<style scoped>\n",
       "    .dataframe tbody tr th:only-of-type {\n",
       "        vertical-align: middle;\n",
       "    }\n",
       "\n",
       "    .dataframe tbody tr th {\n",
       "        vertical-align: top;\n",
       "    }\n",
       "\n",
       "    .dataframe thead tr th {\n",
       "        text-align: left;\n",
       "    }\n",
       "\n",
       "    .dataframe thead tr:last-of-type th {\n",
       "        text-align: right;\n",
       "    }\n",
       "</style>\n",
       "<table border=\"1\" class=\"dataframe\">\n",
       "  <thead>\n",
       "    <tr>\n",
       "      <th></th>\n",
       "      <th colspan=\"3\" halign=\"left\">charges</th>\n",
       "    </tr>\n",
       "    <tr>\n",
       "      <th>age_category</th>\n",
       "      <th>Adult</th>\n",
       "      <th>Old age</th>\n",
       "      <th>Teen</th>\n",
       "    </tr>\n",
       "    <tr>\n",
       "      <th>sex</th>\n",
       "      <th></th>\n",
       "      <th></th>\n",
       "      <th></th>\n",
       "    </tr>\n",
       "  </thead>\n",
       "  <tbody>\n",
       "    <tr>\n",
       "      <th>female</th>\n",
       "      <td>3554.203</td>\n",
       "      <td>8932.084</td>\n",
       "      <td>1607.5101</td>\n",
       "    </tr>\n",
       "    <tr>\n",
       "      <th>male</th>\n",
       "      <td>3260.199</td>\n",
       "      <td>8442.667</td>\n",
       "      <td>1121.8739</td>\n",
       "    </tr>\n",
       "  </tbody>\n",
       "</table>\n",
       "</div>"
      ],
      "text/plain": [
       "               charges                     \n",
       "age_category     Adult   Old age       Teen\n",
       "sex                                        \n",
       "female        3554.203  8932.084  1607.5101\n",
       "male          3260.199  8442.667  1121.8739"
      ]
     },
     "execution_count": 25,
     "metadata": {},
     "output_type": "execute_result"
    }
   ],
   "source": [
    "pd.pivot_table(index=['sex'],columns=['age_category'],values=['charges'],aggfunc=(\"min\"),data=data)"
   ]
  },
  {
   "cell_type": "markdown",
   "id": "76c42d6d",
   "metadata": {},
   "source": [
    "### the female and male medical maximum cost by category."
   ]
  },
  {
   "cell_type": "code",
   "execution_count": 26,
   "id": "d67649be",
   "metadata": {},
   "outputs": [
    {
     "data": {
      "text/html": [
       "<div>\n",
       "<style scoped>\n",
       "    .dataframe tbody tr th:only-of-type {\n",
       "        vertical-align: middle;\n",
       "    }\n",
       "\n",
       "    .dataframe tbody tr th {\n",
       "        vertical-align: top;\n",
       "    }\n",
       "\n",
       "    .dataframe thead tr th {\n",
       "        text-align: left;\n",
       "    }\n",
       "\n",
       "    .dataframe thead tr:last-of-type th {\n",
       "        text-align: right;\n",
       "    }\n",
       "</style>\n",
       "<table border=\"1\" class=\"dataframe\">\n",
       "  <thead>\n",
       "    <tr>\n",
       "      <th></th>\n",
       "      <th colspan=\"3\" halign=\"left\">charges</th>\n",
       "    </tr>\n",
       "    <tr>\n",
       "      <th>age_category</th>\n",
       "      <th>Adult</th>\n",
       "      <th>Old age</th>\n",
       "      <th>Teen</th>\n",
       "    </tr>\n",
       "    <tr>\n",
       "      <th>sex</th>\n",
       "      <th></th>\n",
       "      <th></th>\n",
       "      <th></th>\n",
       "    </tr>\n",
       "  </thead>\n",
       "  <tbody>\n",
       "    <tr>\n",
       "      <th>female</th>\n",
       "      <td>58571.07448</td>\n",
       "      <td>63770.42801</td>\n",
       "      <td>40904.19950</td>\n",
       "    </tr>\n",
       "    <tr>\n",
       "      <th>male</th>\n",
       "      <td>62592.87309</td>\n",
       "      <td>60021.39897</td>\n",
       "      <td>51194.55914</td>\n",
       "    </tr>\n",
       "  </tbody>\n",
       "</table>\n",
       "</div>"
      ],
      "text/plain": [
       "                  charges                          \n",
       "age_category        Adult      Old age         Teen\n",
       "sex                                                \n",
       "female        58571.07448  63770.42801  40904.19950\n",
       "male          62592.87309  60021.39897  51194.55914"
      ]
     },
     "execution_count": 26,
     "metadata": {},
     "output_type": "execute_result"
    }
   ],
   "source": [
    "pd.pivot_table(index=['sex'],columns=['age_category'],values=['charges'],aggfunc=(\"max\"),data=data)"
   ]
  },
  {
   "cell_type": "markdown",
   "id": "7c2f726b",
   "metadata": {},
   "source": [
    "### adult and old age BMI of smokers only."
   ]
  },
  {
   "cell_type": "code",
   "execution_count": 27,
   "id": "912389fc",
   "metadata": {},
   "outputs": [
    {
     "data": {
      "text/plain": [
       "array(['Old age', 'Adult'], dtype=object)"
      ]
     },
     "execution_count": 27,
     "metadata": {},
     "output_type": "execute_result"
    }
   ],
   "source": [
    "b=data.loc[((data['age_category']=='Adult')|(data['age_category']=='Old age'))&(data['smoker']=='yes')]\n",
    "b.age_category.unique()"
   ]
  },
  {
   "cell_type": "code",
   "execution_count": 28,
   "id": "88ef298d",
   "metadata": {},
   "outputs": [
    {
     "data": {
      "text/plain": [
       "Adult      120\n",
       "Old age     68\n",
       "Name: age_category, dtype: int64"
      ]
     },
     "execution_count": 28,
     "metadata": {},
     "output_type": "execute_result"
    }
   ],
   "source": [
    "b['age_category'].value_counts()"
   ]
  },
  {
   "cell_type": "code",
   "execution_count": 29,
   "id": "a3e5b4c8",
   "metadata": {},
   "outputs": [
    {
     "data": {
      "text/html": [
       "<div>\n",
       "<style scoped>\n",
       "    .dataframe tbody tr th:only-of-type {\n",
       "        vertical-align: middle;\n",
       "    }\n",
       "\n",
       "    .dataframe tbody tr th {\n",
       "        vertical-align: top;\n",
       "    }\n",
       "\n",
       "    .dataframe thead tr th {\n",
       "        text-align: left;\n",
       "    }\n",
       "</style>\n",
       "<table border=\"1\" class=\"dataframe\">\n",
       "  <thead>\n",
       "    <tr>\n",
       "      <th></th>\n",
       "      <th colspan=\"2\" halign=\"left\">mean</th>\n",
       "    </tr>\n",
       "    <tr>\n",
       "      <th>age_category</th>\n",
       "      <th>Adult</th>\n",
       "      <th>Old age</th>\n",
       "    </tr>\n",
       "  </thead>\n",
       "  <tbody>\n",
       "    <tr>\n",
       "      <th>bmi</th>\n",
       "      <td>30.33575</td>\n",
       "      <td>31.713676</td>\n",
       "    </tr>\n",
       "  </tbody>\n",
       "</table>\n",
       "</div>"
      ],
      "text/plain": [
       "                  mean           \n",
       "age_category     Adult    Old age\n",
       "bmi           30.33575  31.713676"
      ]
     },
     "execution_count": 29,
     "metadata": {},
     "output_type": "execute_result"
    }
   ],
   "source": [
    "pd.pivot_table(columns=['age_category'],values=['bmi'],aggfunc=['mean'],data=b)"
   ]
  },
  {
   "cell_type": "code",
   "execution_count": 30,
   "id": "c3b30039",
   "metadata": {},
   "outputs": [
    {
     "data": {
      "text/plain": [
       "Index(['age', 'age_category', 'sex', 'bmi', 'children', 'smoker', 'region',\n",
       "       'charges'],\n",
       "      dtype='object')"
      ]
     },
     "execution_count": 30,
     "metadata": {},
     "output_type": "execute_result"
    }
   ],
   "source": [
    "data.columns"
   ]
  },
  {
   "cell_type": "markdown",
   "id": "a457881c",
   "metadata": {},
   "source": [
    "### the people less than 10000 charges those have smokers daily (Show count male/female)."
   ]
  },
  {
   "cell_type": "code",
   "execution_count": 31,
   "id": "22f797bb",
   "metadata": {},
   "outputs": [
    {
     "data": {
      "text/html": [
       "<div>\n",
       "<style scoped>\n",
       "    .dataframe tbody tr th:only-of-type {\n",
       "        vertical-align: middle;\n",
       "    }\n",
       "\n",
       "    .dataframe tbody tr th {\n",
       "        vertical-align: top;\n",
       "    }\n",
       "\n",
       "    .dataframe thead th {\n",
       "        text-align: right;\n",
       "    }\n",
       "</style>\n",
       "<table border=\"1\" class=\"dataframe\">\n",
       "  <thead>\n",
       "    <tr style=\"text-align: right;\">\n",
       "      <th></th>\n",
       "      <th>age</th>\n",
       "      <th>age_category</th>\n",
       "      <th>sex</th>\n",
       "      <th>bmi</th>\n",
       "      <th>children</th>\n",
       "      <th>smoker</th>\n",
       "      <th>region</th>\n",
       "      <th>charges</th>\n",
       "    </tr>\n",
       "  </thead>\n",
       "  <tbody>\n",
       "  </tbody>\n",
       "</table>\n",
       "</div>"
      ],
      "text/plain": [
       "Empty DataFrame\n",
       "Columns: [age, age_category, sex, bmi, children, smoker, region, charges]\n",
       "Index: []"
      ]
     },
     "execution_count": 31,
     "metadata": {},
     "output_type": "execute_result"
    }
   ],
   "source": [
    "d1=data.loc[(data['charges']<=10000)&((data['smoker']=='yes'))]\n",
    "d1"
   ]
  },
  {
   "cell_type": "markdown",
   "id": "ea6e0f07",
   "metadata": {},
   "source": [
    "### the (Categories) and show the descending order those having the highest smoker male/female"
   ]
  },
  {
   "cell_type": "code",
   "execution_count": 32,
   "id": "7513ae79",
   "metadata": {},
   "outputs": [
    {
     "data": {
      "text/plain": [
       "age_category  sex     smoker\n",
       "Adult         female  no        216\n",
       "                      yes        50\n",
       "              male    no        200\n",
       "                      yes        70\n",
       "Old age       female  no        167\n",
       "                      yes        28\n",
       "              male    no        150\n",
       "                      yes        40\n",
       "Teen          female  no        164\n",
       "                      yes        37\n",
       "              male    no        167\n",
       "                      yes        49\n",
       "Name: smoker, dtype: int64"
      ]
     },
     "execution_count": 32,
     "metadata": {},
     "output_type": "execute_result"
    }
   ],
   "source": [
    "data.groupby(['age_category','sex'])['smoker'].value_counts()"
   ]
  },
  {
   "cell_type": "code",
   "execution_count": null,
   "id": "a11833c4",
   "metadata": {},
   "outputs": [],
   "source": []
  },
  {
   "cell_type": "code",
   "execution_count": null,
   "id": "f296018a",
   "metadata": {},
   "outputs": [],
   "source": []
  }
 ],
 "metadata": {
  "kernelspec": {
   "display_name": "Python 3 (ipykernel)",
   "language": "python",
   "name": "python3"
  },
  "language_info": {
   "codemirror_mode": {
    "name": "ipython",
    "version": 3
   },
   "file_extension": ".py",
   "mimetype": "text/x-python",
   "name": "python",
   "nbconvert_exporter": "python",
   "pygments_lexer": "ipython3",
   "version": "3.9.13"
  }
 },
 "nbformat": 4,
 "nbformat_minor": 5
}
