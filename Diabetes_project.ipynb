{
 "cells": [
  {
   "cell_type": "code",
   "execution_count": 43,
   "id": "6352663f",
   "metadata": {},
   "outputs": [],
   "source": [
    "import numpy as np\n",
    "import pandas as pd"
   ]
  },
  {
   "cell_type": "code",
   "execution_count": 44,
   "id": "e086ff08",
   "metadata": {},
   "outputs": [],
   "source": [
    "data=pd.read_csv(\"E:\\Datasets\\diabetes.csv\")"
   ]
  },
  {
   "cell_type": "code",
   "execution_count": 45,
   "id": "3ab90dc6",
   "metadata": {},
   "outputs": [
    {
     "data": {
      "text/html": [
       "<div>\n",
       "<style scoped>\n",
       "    .dataframe tbody tr th:only-of-type {\n",
       "        vertical-align: middle;\n",
       "    }\n",
       "\n",
       "    .dataframe tbody tr th {\n",
       "        vertical-align: top;\n",
       "    }\n",
       "\n",
       "    .dataframe thead th {\n",
       "        text-align: right;\n",
       "    }\n",
       "</style>\n",
       "<table border=\"1\" class=\"dataframe\">\n",
       "  <thead>\n",
       "    <tr style=\"text-align: right;\">\n",
       "      <th></th>\n",
       "      <th>Pregnancies</th>\n",
       "      <th>Glucose</th>\n",
       "      <th>BloodPressure</th>\n",
       "      <th>SkinThickness</th>\n",
       "      <th>Insulin</th>\n",
       "      <th>BMI</th>\n",
       "      <th>DiabetesPedigreeFunction</th>\n",
       "      <th>Age</th>\n",
       "      <th>Outcome</th>\n",
       "    </tr>\n",
       "  </thead>\n",
       "  <tbody>\n",
       "    <tr>\n",
       "      <th>0</th>\n",
       "      <td>6</td>\n",
       "      <td>148</td>\n",
       "      <td>72</td>\n",
       "      <td>35</td>\n",
       "      <td>0</td>\n",
       "      <td>33.6</td>\n",
       "      <td>0.627</td>\n",
       "      <td>50</td>\n",
       "      <td>1</td>\n",
       "    </tr>\n",
       "    <tr>\n",
       "      <th>1</th>\n",
       "      <td>1</td>\n",
       "      <td>85</td>\n",
       "      <td>66</td>\n",
       "      <td>29</td>\n",
       "      <td>0</td>\n",
       "      <td>26.6</td>\n",
       "      <td>0.351</td>\n",
       "      <td>31</td>\n",
       "      <td>0</td>\n",
       "    </tr>\n",
       "    <tr>\n",
       "      <th>2</th>\n",
       "      <td>8</td>\n",
       "      <td>183</td>\n",
       "      <td>64</td>\n",
       "      <td>0</td>\n",
       "      <td>0</td>\n",
       "      <td>23.3</td>\n",
       "      <td>0.672</td>\n",
       "      <td>32</td>\n",
       "      <td>1</td>\n",
       "    </tr>\n",
       "    <tr>\n",
       "      <th>3</th>\n",
       "      <td>1</td>\n",
       "      <td>89</td>\n",
       "      <td>66</td>\n",
       "      <td>23</td>\n",
       "      <td>94</td>\n",
       "      <td>28.1</td>\n",
       "      <td>0.167</td>\n",
       "      <td>21</td>\n",
       "      <td>0</td>\n",
       "    </tr>\n",
       "    <tr>\n",
       "      <th>4</th>\n",
       "      <td>0</td>\n",
       "      <td>137</td>\n",
       "      <td>40</td>\n",
       "      <td>35</td>\n",
       "      <td>168</td>\n",
       "      <td>43.1</td>\n",
       "      <td>2.288</td>\n",
       "      <td>33</td>\n",
       "      <td>1</td>\n",
       "    </tr>\n",
       "  </tbody>\n",
       "</table>\n",
       "</div>"
      ],
      "text/plain": [
       "   Pregnancies  Glucose  BloodPressure  SkinThickness  Insulin   BMI  \\\n",
       "0            6      148             72             35        0  33.6   \n",
       "1            1       85             66             29        0  26.6   \n",
       "2            8      183             64              0        0  23.3   \n",
       "3            1       89             66             23       94  28.1   \n",
       "4            0      137             40             35      168  43.1   \n",
       "\n",
       "   DiabetesPedigreeFunction  Age  Outcome  \n",
       "0                     0.627   50        1  \n",
       "1                     0.351   31        0  \n",
       "2                     0.672   32        1  \n",
       "3                     0.167   21        0  \n",
       "4                     2.288   33        1  "
      ]
     },
     "execution_count": 45,
     "metadata": {},
     "output_type": "execute_result"
    }
   ],
   "source": [
    "data.head()"
   ]
  },
  {
   "cell_type": "code",
   "execution_count": 46,
   "id": "3539ccfe",
   "metadata": {},
   "outputs": [
    {
     "name": "stdout",
     "output_type": "stream",
     "text": [
      "<class 'pandas.core.frame.DataFrame'>\n",
      "RangeIndex: 768 entries, 0 to 767\n",
      "Data columns (total 9 columns):\n",
      " #   Column                    Non-Null Count  Dtype  \n",
      "---  ------                    --------------  -----  \n",
      " 0   Pregnancies               768 non-null    int64  \n",
      " 1   Glucose                   768 non-null    int64  \n",
      " 2   BloodPressure             768 non-null    int64  \n",
      " 3   SkinThickness             768 non-null    int64  \n",
      " 4   Insulin                   768 non-null    int64  \n",
      " 5   BMI                       768 non-null    float64\n",
      " 6   DiabetesPedigreeFunction  768 non-null    float64\n",
      " 7   Age                       768 non-null    int64  \n",
      " 8   Outcome                   768 non-null    int64  \n",
      "dtypes: float64(2), int64(7)\n",
      "memory usage: 54.1 KB\n"
     ]
    }
   ],
   "source": [
    "data.info()"
   ]
  },
  {
   "cell_type": "code",
   "execution_count": 47,
   "id": "7c20e93b",
   "metadata": {},
   "outputs": [
    {
     "data": {
      "text/plain": [
       "Pregnancies                 0\n",
       "Glucose                     0\n",
       "BloodPressure               0\n",
       "SkinThickness               0\n",
       "Insulin                     0\n",
       "BMI                         0\n",
       "DiabetesPedigreeFunction    0\n",
       "Age                         0\n",
       "Outcome                     0\n",
       "dtype: int64"
      ]
     },
     "execution_count": 47,
     "metadata": {},
     "output_type": "execute_result"
    }
   ],
   "source": [
    "data.isna().sum()"
   ]
  },
  {
   "cell_type": "code",
   "execution_count": 48,
   "id": "8c8db2af",
   "metadata": {},
   "outputs": [],
   "source": [
    "# rename column\n",
    "data.rename(columns={\"DiabetesPedigreeFunction\":\"DiaPredFunc\"},inplace=True)"
   ]
  },
  {
   "cell_type": "code",
   "execution_count": 49,
   "id": "b35f45d7",
   "metadata": {},
   "outputs": [
    {
     "data": {
      "text/html": [
       "<div>\n",
       "<style scoped>\n",
       "    .dataframe tbody tr th:only-of-type {\n",
       "        vertical-align: middle;\n",
       "    }\n",
       "\n",
       "    .dataframe tbody tr th {\n",
       "        vertical-align: top;\n",
       "    }\n",
       "\n",
       "    .dataframe thead th {\n",
       "        text-align: right;\n",
       "    }\n",
       "</style>\n",
       "<table border=\"1\" class=\"dataframe\">\n",
       "  <thead>\n",
       "    <tr style=\"text-align: right;\">\n",
       "      <th></th>\n",
       "      <th>Pregnancies</th>\n",
       "      <th>Glucose</th>\n",
       "      <th>BloodPressure</th>\n",
       "      <th>SkinThickness</th>\n",
       "      <th>Insulin</th>\n",
       "      <th>BMI</th>\n",
       "      <th>DiaPredFunc</th>\n",
       "      <th>Age</th>\n",
       "      <th>Outcome</th>\n",
       "    </tr>\n",
       "  </thead>\n",
       "  <tbody>\n",
       "    <tr>\n",
       "      <th>Pregnancies</th>\n",
       "      <td>1.0000</td>\n",
       "      <td>0.1295</td>\n",
       "      <td>0.1413</td>\n",
       "      <td>-0.0817</td>\n",
       "      <td>-0.0735</td>\n",
       "      <td>0.0177</td>\n",
       "      <td>-0.0335</td>\n",
       "      <td>0.5443</td>\n",
       "      <td>0.2219</td>\n",
       "    </tr>\n",
       "    <tr>\n",
       "      <th>Glucose</th>\n",
       "      <td>0.1295</td>\n",
       "      <td>1.0000</td>\n",
       "      <td>0.1526</td>\n",
       "      <td>0.0573</td>\n",
       "      <td>0.3314</td>\n",
       "      <td>0.2211</td>\n",
       "      <td>0.1373</td>\n",
       "      <td>0.2635</td>\n",
       "      <td>0.4666</td>\n",
       "    </tr>\n",
       "    <tr>\n",
       "      <th>BloodPressure</th>\n",
       "      <td>0.1413</td>\n",
       "      <td>0.1526</td>\n",
       "      <td>1.0000</td>\n",
       "      <td>0.2074</td>\n",
       "      <td>0.0889</td>\n",
       "      <td>0.2818</td>\n",
       "      <td>0.0413</td>\n",
       "      <td>0.2395</td>\n",
       "      <td>0.0651</td>\n",
       "    </tr>\n",
       "    <tr>\n",
       "      <th>SkinThickness</th>\n",
       "      <td>-0.0817</td>\n",
       "      <td>0.0573</td>\n",
       "      <td>0.2074</td>\n",
       "      <td>1.0000</td>\n",
       "      <td>0.4368</td>\n",
       "      <td>0.3926</td>\n",
       "      <td>0.1839</td>\n",
       "      <td>-0.1140</td>\n",
       "      <td>0.0748</td>\n",
       "    </tr>\n",
       "    <tr>\n",
       "      <th>Insulin</th>\n",
       "      <td>-0.0735</td>\n",
       "      <td>0.3314</td>\n",
       "      <td>0.0889</td>\n",
       "      <td>0.4368</td>\n",
       "      <td>1.0000</td>\n",
       "      <td>0.1979</td>\n",
       "      <td>0.1851</td>\n",
       "      <td>-0.0422</td>\n",
       "      <td>0.1305</td>\n",
       "    </tr>\n",
       "    <tr>\n",
       "      <th>BMI</th>\n",
       "      <td>0.0177</td>\n",
       "      <td>0.2211</td>\n",
       "      <td>0.2818</td>\n",
       "      <td>0.3926</td>\n",
       "      <td>0.1979</td>\n",
       "      <td>1.0000</td>\n",
       "      <td>0.1406</td>\n",
       "      <td>0.0362</td>\n",
       "      <td>0.2927</td>\n",
       "    </tr>\n",
       "    <tr>\n",
       "      <th>DiaPredFunc</th>\n",
       "      <td>-0.0335</td>\n",
       "      <td>0.1373</td>\n",
       "      <td>0.0413</td>\n",
       "      <td>0.1839</td>\n",
       "      <td>0.1851</td>\n",
       "      <td>0.1406</td>\n",
       "      <td>1.0000</td>\n",
       "      <td>0.0336</td>\n",
       "      <td>0.1738</td>\n",
       "    </tr>\n",
       "    <tr>\n",
       "      <th>Age</th>\n",
       "      <td>0.5443</td>\n",
       "      <td>0.2635</td>\n",
       "      <td>0.2395</td>\n",
       "      <td>-0.1140</td>\n",
       "      <td>-0.0422</td>\n",
       "      <td>0.0362</td>\n",
       "      <td>0.0336</td>\n",
       "      <td>1.0000</td>\n",
       "      <td>0.2384</td>\n",
       "    </tr>\n",
       "    <tr>\n",
       "      <th>Outcome</th>\n",
       "      <td>0.2219</td>\n",
       "      <td>0.4666</td>\n",
       "      <td>0.0651</td>\n",
       "      <td>0.0748</td>\n",
       "      <td>0.1305</td>\n",
       "      <td>0.2927</td>\n",
       "      <td>0.1738</td>\n",
       "      <td>0.2384</td>\n",
       "      <td>1.0000</td>\n",
       "    </tr>\n",
       "  </tbody>\n",
       "</table>\n",
       "</div>"
      ],
      "text/plain": [
       "               Pregnancies  Glucose  BloodPressure  SkinThickness  Insulin  \\\n",
       "Pregnancies         1.0000   0.1295         0.1413        -0.0817  -0.0735   \n",
       "Glucose             0.1295   1.0000         0.1526         0.0573   0.3314   \n",
       "BloodPressure       0.1413   0.1526         1.0000         0.2074   0.0889   \n",
       "SkinThickness      -0.0817   0.0573         0.2074         1.0000   0.4368   \n",
       "Insulin            -0.0735   0.3314         0.0889         0.4368   1.0000   \n",
       "BMI                 0.0177   0.2211         0.2818         0.3926   0.1979   \n",
       "DiaPredFunc        -0.0335   0.1373         0.0413         0.1839   0.1851   \n",
       "Age                 0.5443   0.2635         0.2395        -0.1140  -0.0422   \n",
       "Outcome             0.2219   0.4666         0.0651         0.0748   0.1305   \n",
       "\n",
       "                  BMI  DiaPredFunc     Age  Outcome  \n",
       "Pregnancies    0.0177      -0.0335  0.5443   0.2219  \n",
       "Glucose        0.2211       0.1373  0.2635   0.4666  \n",
       "BloodPressure  0.2818       0.0413  0.2395   0.0651  \n",
       "SkinThickness  0.3926       0.1839 -0.1140   0.0748  \n",
       "Insulin        0.1979       0.1851 -0.0422   0.1305  \n",
       "BMI            1.0000       0.1406  0.0362   0.2927  \n",
       "DiaPredFunc    0.1406       1.0000  0.0336   0.1738  \n",
       "Age            0.0362       0.0336  1.0000   0.2384  \n",
       "Outcome        0.2927       0.1738  0.2384   1.0000  "
      ]
     },
     "execution_count": 49,
     "metadata": {},
     "output_type": "execute_result"
    }
   ],
   "source": [
    "data.corr().round(4)"
   ]
  },
  {
   "cell_type": "code",
   "execution_count": 50,
   "id": "d5ce0dec",
   "metadata": {},
   "outputs": [],
   "source": [
    "x=data.iloc[:,:-1]\n",
    "y=data.iloc[:,-1]"
   ]
  },
  {
   "cell_type": "code",
   "execution_count": 51,
   "id": "dcc4110d",
   "metadata": {},
   "outputs": [
    {
     "data": {
      "text/plain": [
       "0    500\n",
       "1    268\n",
       "Name: Outcome, dtype: int64"
      ]
     },
     "execution_count": 51,
     "metadata": {},
     "output_type": "execute_result"
    }
   ],
   "source": [
    "data.Outcome.value_counts()"
   ]
  },
  {
   "cell_type": "code",
   "execution_count": 52,
   "id": "dda086c4",
   "metadata": {},
   "outputs": [],
   "source": [
    "# Imbalancing\n",
    "from imblearn.over_sampling import SMOTE\n",
    "sm=SMOTE()\n",
    "x_res,y_res=sm.fit_resample(x,y)"
   ]
  },
  {
   "cell_type": "code",
   "execution_count": 53,
   "id": "b42182cd",
   "metadata": {},
   "outputs": [],
   "source": [
    "from sklearn.preprocessing import StandardScaler\n",
    "s=StandardScaler()\n",
    "x_data=s.fit_transform(x_res)"
   ]
  },
  {
   "cell_type": "code",
   "execution_count": 54,
   "id": "2749d1ae",
   "metadata": {},
   "outputs": [],
   "source": [
    "y_data=y_res"
   ]
  },
  {
   "cell_type": "code",
   "execution_count": 55,
   "id": "8676a9b7",
   "metadata": {},
   "outputs": [],
   "source": [
    "from sklearn.model_selection import train_test_split\n",
    "x_train,x_test,y_train,y_test=train_test_split(x_data,y_data,test_size=0.2,random_state=100)"
   ]
  },
  {
   "cell_type": "code",
   "execution_count": 71,
   "id": "1af0788d",
   "metadata": {},
   "outputs": [],
   "source": [
    "from sklearn.linear_model import LogisticRegression\n",
    "from sklearn.neighbors import KNeighborsClassifier\n",
    "from sklearn.ensemble import RandomForestClassifier\n",
    "from sklearn.svm import SVC\n",
    "l=LogisticRegression()\n",
    "k=KNeighborsClassifier()\n",
    "s=SVC()\n",
    "r= RandomForestClassifier()  "
   ]
  },
  {
   "cell_type": "code",
   "execution_count": 72,
   "id": "18e56650",
   "metadata": {},
   "outputs": [
    {
     "name": "stdout",
     "output_type": "stream",
     "text": [
      "LogisticRegression()\n",
      "KNeighborsClassifier()\n",
      "SVC()\n",
      "RandomForestClassifier()\n"
     ]
    }
   ],
   "source": [
    "print(l.fit(x_train,y_train))\n",
    "print(k.fit(x_train,y_train))\n",
    "print(s.fit(x_train,y_train))\n",
    "print(r.fit(x_train,y_train))"
   ]
  },
  {
   "cell_type": "code",
   "execution_count": null,
   "id": "f4590445",
   "metadata": {},
   "outputs": [],
   "source": [
    "y_pred=r.predict(x_test)"
   ]
  },
  {
   "cell_type": "code",
   "execution_count": 58,
   "id": "4643c8ca",
   "metadata": {},
   "outputs": [
    {
     "name": "stdout",
     "output_type": "stream",
     "text": [
      "Logistic Regression:  76\n",
      "KNN:  80\n",
      "SVM:  78\n",
      "Random Forest:  84\n"
     ]
    }
   ],
   "source": [
    "# Accuracy Score\n",
    "print(\"Logistic Regression: \",round(l.score(x_test,y_test)*100))\n",
    "print(\"KNN: \",round(k.score(x_test,y_test)*100))\n",
    "print(\"SVM: \",round(s.score(x_test,y_test)*100))\n",
    "print(\"Random Forest: \",round(r.score(x_test,y_test)*100))"
   ]
  },
  {
   "cell_type": "code",
   "execution_count": 59,
   "id": "b104e1a6",
   "metadata": {},
   "outputs": [
    {
     "name": "stdout",
     "output_type": "stream",
     "text": [
      "StratifiedKFold(n_splits=5, random_state=100, shuffle=True)\n"
     ]
    }
   ],
   "source": [
    "# Cross Validation:\n",
    "from sklearn.model_selection import StratifiedKFold\n",
    "skf=StratifiedKFold(n_splits=5,random_state=100,shuffle=True)\n",
    "skf.get_n_splits(x_data,y_data)\n",
    "print(skf)\n",
    "from sklearn.model_selection import cross_val_score\n",
    "from sklearn.model_selection import cross_val_predict"
   ]
  },
  {
   "cell_type": "code",
   "execution_count": 60,
   "id": "40b0f9e1",
   "metadata": {},
   "outputs": [
    {
     "name": "stdout",
     "output_type": "stream",
     "text": [
      "Checking y_test Balancing: Counter({1: 100, 0: 100})\n",
      "Checking y_train Balancing: Counter({1: 400, 0: 400})\n",
      "[0.775   0.84375 0.7625  0.8375  0.83125]\n",
      "----------------------------------------------------------\n",
      "Checking y_test Balancing: Counter({0: 100, 1: 100})\n",
      "Checking y_train Balancing: Counter({1: 400, 0: 400})\n",
      "[0.81875 0.83125 0.84375 0.775   0.8    ]\n",
      "----------------------------------------------------------\n",
      "Checking y_test Balancing: Counter({0: 100, 1: 100})\n",
      "Checking y_train Balancing: Counter({1: 400, 0: 400})\n",
      "[0.8625  0.76875 0.75625 0.85625 0.81875]\n",
      "----------------------------------------------------------\n",
      "Checking y_test Balancing: Counter({1: 100, 0: 100})\n",
      "Checking y_train Balancing: Counter({1: 400, 0: 400})\n",
      "[0.79375 0.81875 0.775   0.74375 0.8125 ]\n",
      "----------------------------------------------------------\n",
      "Checking y_test Balancing: Counter({1: 100, 0: 100})\n",
      "Checking y_train Balancing: Counter({1: 400, 0: 400})\n",
      "[0.825   0.8375  0.80625 0.825   0.83125]\n",
      "----------------------------------------------------------\n"
     ]
    }
   ],
   "source": [
    "for train_data,test_data in skf.split(x_data,y_data):\n",
    "    x_train,x_test=x_data[train_data],x_data[test_data]\n",
    "    y_train,y_test=y_data[train_data],y_data[test_data]\n",
    "    scores=cross_val_score(r,x_train,y_train,cv=skf)\n",
    "    y_pred=cross_val_predict(r,x_test,y_test,cv=skf)\n",
    "    print(\"Checking y_test Balancing:\",Counter(y_test))\n",
    "    print(\"Checking y_train Balancing:\",Counter(y_train))\n",
    "    print(scores)\n",
    "    print(\"----------------------------------------------------------\")"
   ]
  },
  {
   "cell_type": "code",
   "execution_count": 61,
   "id": "aa2b2092",
   "metadata": {},
   "outputs": [
    {
     "data": {
      "text/html": [
       "<style>#sk-container-id-1 {color: black;background-color: white;}#sk-container-id-1 pre{padding: 0;}#sk-container-id-1 div.sk-toggleable {background-color: white;}#sk-container-id-1 label.sk-toggleable__label {cursor: pointer;display: block;width: 100%;margin-bottom: 0;padding: 0.3em;box-sizing: border-box;text-align: center;}#sk-container-id-1 label.sk-toggleable__label-arrow:before {content: \"▸\";float: left;margin-right: 0.25em;color: #696969;}#sk-container-id-1 label.sk-toggleable__label-arrow:hover:before {color: black;}#sk-container-id-1 div.sk-estimator:hover label.sk-toggleable__label-arrow:before {color: black;}#sk-container-id-1 div.sk-toggleable__content {max-height: 0;max-width: 0;overflow: hidden;text-align: left;background-color: #f0f8ff;}#sk-container-id-1 div.sk-toggleable__content pre {margin: 0.2em;color: black;border-radius: 0.25em;background-color: #f0f8ff;}#sk-container-id-1 input.sk-toggleable__control:checked~div.sk-toggleable__content {max-height: 200px;max-width: 100%;overflow: auto;}#sk-container-id-1 input.sk-toggleable__control:checked~label.sk-toggleable__label-arrow:before {content: \"▾\";}#sk-container-id-1 div.sk-estimator input.sk-toggleable__control:checked~label.sk-toggleable__label {background-color: #d4ebff;}#sk-container-id-1 div.sk-label input.sk-toggleable__control:checked~label.sk-toggleable__label {background-color: #d4ebff;}#sk-container-id-1 input.sk-hidden--visually {border: 0;clip: rect(1px 1px 1px 1px);clip: rect(1px, 1px, 1px, 1px);height: 1px;margin: -1px;overflow: hidden;padding: 0;position: absolute;width: 1px;}#sk-container-id-1 div.sk-estimator {font-family: monospace;background-color: #f0f8ff;border: 1px dotted black;border-radius: 0.25em;box-sizing: border-box;margin-bottom: 0.5em;}#sk-container-id-1 div.sk-estimator:hover {background-color: #d4ebff;}#sk-container-id-1 div.sk-parallel-item::after {content: \"\";width: 100%;border-bottom: 1px solid gray;flex-grow: 1;}#sk-container-id-1 div.sk-label:hover label.sk-toggleable__label {background-color: #d4ebff;}#sk-container-id-1 div.sk-serial::before {content: \"\";position: absolute;border-left: 1px solid gray;box-sizing: border-box;top: 0;bottom: 0;left: 50%;z-index: 0;}#sk-container-id-1 div.sk-serial {display: flex;flex-direction: column;align-items: center;background-color: white;padding-right: 0.2em;padding-left: 0.2em;position: relative;}#sk-container-id-1 div.sk-item {position: relative;z-index: 1;}#sk-container-id-1 div.sk-parallel {display: flex;align-items: stretch;justify-content: center;background-color: white;position: relative;}#sk-container-id-1 div.sk-item::before, #sk-container-id-1 div.sk-parallel-item::before {content: \"\";position: absolute;border-left: 1px solid gray;box-sizing: border-box;top: 0;bottom: 0;left: 50%;z-index: -1;}#sk-container-id-1 div.sk-parallel-item {display: flex;flex-direction: column;z-index: 1;position: relative;background-color: white;}#sk-container-id-1 div.sk-parallel-item:first-child::after {align-self: flex-end;width: 50%;}#sk-container-id-1 div.sk-parallel-item:last-child::after {align-self: flex-start;width: 50%;}#sk-container-id-1 div.sk-parallel-item:only-child::after {width: 0;}#sk-container-id-1 div.sk-dashed-wrapped {border: 1px dashed gray;margin: 0 0.4em 0.5em 0.4em;box-sizing: border-box;padding-bottom: 0.4em;background-color: white;}#sk-container-id-1 div.sk-label label {font-family: monospace;font-weight: bold;display: inline-block;line-height: 1.2em;}#sk-container-id-1 div.sk-label-container {text-align: center;}#sk-container-id-1 div.sk-container {/* jupyter's `normalize.less` sets `[hidden] { display: none; }` but bootstrap.min.css set `[hidden] { display: none !important; }` so we also need the `!important` here to be able to override the default hidden behavior on the sphinx rendered scikit-learn.org. See: https://github.com/scikit-learn/scikit-learn/issues/21755 */display: inline-block !important;position: relative;}#sk-container-id-1 div.sk-text-repr-fallback {display: none;}</style><div id=\"sk-container-id-1\" class=\"sk-top-container\"><div class=\"sk-text-repr-fallback\"><pre>VotingClassifier(estimators=[(&#x27;Logistic Regression&#x27;, LogisticRegression()),\n",
       "                             (&#x27;KNN&#x27;, KNeighborsClassifier()), (&#x27;SVM&#x27;, SVC()),\n",
       "                             (&#x27;Random Forest&#x27;, RandomForestClassifier())])</pre><b>In a Jupyter environment, please rerun this cell to show the HTML representation or trust the notebook. <br />On GitHub, the HTML representation is unable to render, please try loading this page with nbviewer.org.</b></div><div class=\"sk-container\" hidden><div class=\"sk-item sk-dashed-wrapped\"><div class=\"sk-label-container\"><div class=\"sk-label sk-toggleable\"><input class=\"sk-toggleable__control sk-hidden--visually\" id=\"sk-estimator-id-1\" type=\"checkbox\" ><label for=\"sk-estimator-id-1\" class=\"sk-toggleable__label sk-toggleable__label-arrow\">VotingClassifier</label><div class=\"sk-toggleable__content\"><pre>VotingClassifier(estimators=[(&#x27;Logistic Regression&#x27;, LogisticRegression()),\n",
       "                             (&#x27;KNN&#x27;, KNeighborsClassifier()), (&#x27;SVM&#x27;, SVC()),\n",
       "                             (&#x27;Random Forest&#x27;, RandomForestClassifier())])</pre></div></div></div><div class=\"sk-parallel\"><div class=\"sk-parallel-item\"><div class=\"sk-item\"><div class=\"sk-label-container\"><div class=\"sk-label sk-toggleable\"><label>Logistic Regression</label></div></div><div class=\"sk-serial\"><div class=\"sk-item\"><div class=\"sk-estimator sk-toggleable\"><input class=\"sk-toggleable__control sk-hidden--visually\" id=\"sk-estimator-id-2\" type=\"checkbox\" ><label for=\"sk-estimator-id-2\" class=\"sk-toggleable__label sk-toggleable__label-arrow\">LogisticRegression</label><div class=\"sk-toggleable__content\"><pre>LogisticRegression()</pre></div></div></div></div></div></div><div class=\"sk-parallel-item\"><div class=\"sk-item\"><div class=\"sk-label-container\"><div class=\"sk-label sk-toggleable\"><label>KNN</label></div></div><div class=\"sk-serial\"><div class=\"sk-item\"><div class=\"sk-estimator sk-toggleable\"><input class=\"sk-toggleable__control sk-hidden--visually\" id=\"sk-estimator-id-3\" type=\"checkbox\" ><label for=\"sk-estimator-id-3\" class=\"sk-toggleable__label sk-toggleable__label-arrow\">KNeighborsClassifier</label><div class=\"sk-toggleable__content\"><pre>KNeighborsClassifier()</pre></div></div></div></div></div></div><div class=\"sk-parallel-item\"><div class=\"sk-item\"><div class=\"sk-label-container\"><div class=\"sk-label sk-toggleable\"><label>SVM</label></div></div><div class=\"sk-serial\"><div class=\"sk-item\"><div class=\"sk-estimator sk-toggleable\"><input class=\"sk-toggleable__control sk-hidden--visually\" id=\"sk-estimator-id-4\" type=\"checkbox\" ><label for=\"sk-estimator-id-4\" class=\"sk-toggleable__label sk-toggleable__label-arrow\">SVC</label><div class=\"sk-toggleable__content\"><pre>SVC()</pre></div></div></div></div></div></div><div class=\"sk-parallel-item\"><div class=\"sk-item\"><div class=\"sk-label-container\"><div class=\"sk-label sk-toggleable\"><label>Random Forest</label></div></div><div class=\"sk-serial\"><div class=\"sk-item\"><div class=\"sk-estimator sk-toggleable\"><input class=\"sk-toggleable__control sk-hidden--visually\" id=\"sk-estimator-id-5\" type=\"checkbox\" ><label for=\"sk-estimator-id-5\" class=\"sk-toggleable__label sk-toggleable__label-arrow\">RandomForestClassifier</label><div class=\"sk-toggleable__content\"><pre>RandomForestClassifier()</pre></div></div></div></div></div></div></div></div></div></div>"
      ],
      "text/plain": [
       "VotingClassifier(estimators=[('Logistic Regression', LogisticRegression()),\n",
       "                             ('KNN', KNeighborsClassifier()), ('SVM', SVC()),\n",
       "                             ('Random Forest', RandomForestClassifier())])"
      ]
     },
     "execution_count": 61,
     "metadata": {},
     "output_type": "execute_result"
    }
   ],
   "source": [
    "# MaxVoting Ensembel\n",
    "from sklearn.ensemble import VotingClassifier\n",
    "max_vote=VotingClassifier(estimators=[('Logistic Regression',l),('KNN',k),(\"SVM\",s),('Random Forest',r)])\n",
    "max_vote.fit(x_train,y_train)"
   ]
  },
  {
   "cell_type": "code",
   "execution_count": 62,
   "id": "9d13271e",
   "metadata": {},
   "outputs": [
    {
     "data": {
      "text/plain": [
       "0.795"
      ]
     },
     "execution_count": 62,
     "metadata": {},
     "output_type": "execute_result"
    }
   ],
   "source": [
    "max_score=max_vote.score(x_test,y_test)\n",
    "max_score"
   ]
  },
  {
   "cell_type": "code",
   "execution_count": 63,
   "id": "387485a7",
   "metadata": {},
   "outputs": [
    {
     "name": "stdout",
     "output_type": "stream",
     "text": [
      "[0.775   0.85    0.76875 0.83125 0.8375 ]\n",
      "Y data Counter:  Counter({1: 100, 0: 100})\n",
      "[0.81875 0.81875 0.81875 0.74375 0.80625]\n",
      "Y data Counter:  Counter({0: 100, 1: 100})\n",
      "[0.86875 0.775   0.76875 0.85    0.80625]\n",
      "Y data Counter:  Counter({0: 100, 1: 100})\n",
      "[0.8125  0.81875 0.79375 0.775   0.80625]\n",
      "Y data Counter:  Counter({1: 100, 0: 100})\n",
      "[0.83125 0.79375 0.8375  0.825   0.8375 ]\n",
      "Y data Counter:  Counter({1: 100, 0: 100})\n"
     ]
    }
   ],
   "source": [
    "# cross validation with ensemble\n",
    "for train_data,test_data in skf.split(x_data,y_data):\n",
    "    x_train,x_test=x_data[train_data],x_data[test_data]\n",
    "    y_train,y_test=y_data[train_data],y_data[test_data]\n",
    "    from sklearn.ensemble import VotingClassifier\n",
    "    vote=VotingClassifier(estimators=[(\"Logistic\",l),(\"KNN\",k),(\"SVM\",s)])\n",
    "    vote.fit(x_train,y_train)\n",
    "    scores=cross_val_score(r,x_train,y_train,cv=skf)\n",
    "    print(scores)\n",
    "    print(\"Y data Counter: \",Counter(y_test))"
   ]
  },
  {
   "cell_type": "code",
   "execution_count": 64,
   "id": "5fa599d6",
   "metadata": {},
   "outputs": [
    {
     "data": {
      "text/html": [
       "<style>#sk-container-id-2 {color: black;background-color: white;}#sk-container-id-2 pre{padding: 0;}#sk-container-id-2 div.sk-toggleable {background-color: white;}#sk-container-id-2 label.sk-toggleable__label {cursor: pointer;display: block;width: 100%;margin-bottom: 0;padding: 0.3em;box-sizing: border-box;text-align: center;}#sk-container-id-2 label.sk-toggleable__label-arrow:before {content: \"▸\";float: left;margin-right: 0.25em;color: #696969;}#sk-container-id-2 label.sk-toggleable__label-arrow:hover:before {color: black;}#sk-container-id-2 div.sk-estimator:hover label.sk-toggleable__label-arrow:before {color: black;}#sk-container-id-2 div.sk-toggleable__content {max-height: 0;max-width: 0;overflow: hidden;text-align: left;background-color: #f0f8ff;}#sk-container-id-2 div.sk-toggleable__content pre {margin: 0.2em;color: black;border-radius: 0.25em;background-color: #f0f8ff;}#sk-container-id-2 input.sk-toggleable__control:checked~div.sk-toggleable__content {max-height: 200px;max-width: 100%;overflow: auto;}#sk-container-id-2 input.sk-toggleable__control:checked~label.sk-toggleable__label-arrow:before {content: \"▾\";}#sk-container-id-2 div.sk-estimator input.sk-toggleable__control:checked~label.sk-toggleable__label {background-color: #d4ebff;}#sk-container-id-2 div.sk-label input.sk-toggleable__control:checked~label.sk-toggleable__label {background-color: #d4ebff;}#sk-container-id-2 input.sk-hidden--visually {border: 0;clip: rect(1px 1px 1px 1px);clip: rect(1px, 1px, 1px, 1px);height: 1px;margin: -1px;overflow: hidden;padding: 0;position: absolute;width: 1px;}#sk-container-id-2 div.sk-estimator {font-family: monospace;background-color: #f0f8ff;border: 1px dotted black;border-radius: 0.25em;box-sizing: border-box;margin-bottom: 0.5em;}#sk-container-id-2 div.sk-estimator:hover {background-color: #d4ebff;}#sk-container-id-2 div.sk-parallel-item::after {content: \"\";width: 100%;border-bottom: 1px solid gray;flex-grow: 1;}#sk-container-id-2 div.sk-label:hover label.sk-toggleable__label {background-color: #d4ebff;}#sk-container-id-2 div.sk-serial::before {content: \"\";position: absolute;border-left: 1px solid gray;box-sizing: border-box;top: 0;bottom: 0;left: 50%;z-index: 0;}#sk-container-id-2 div.sk-serial {display: flex;flex-direction: column;align-items: center;background-color: white;padding-right: 0.2em;padding-left: 0.2em;position: relative;}#sk-container-id-2 div.sk-item {position: relative;z-index: 1;}#sk-container-id-2 div.sk-parallel {display: flex;align-items: stretch;justify-content: center;background-color: white;position: relative;}#sk-container-id-2 div.sk-item::before, #sk-container-id-2 div.sk-parallel-item::before {content: \"\";position: absolute;border-left: 1px solid gray;box-sizing: border-box;top: 0;bottom: 0;left: 50%;z-index: -1;}#sk-container-id-2 div.sk-parallel-item {display: flex;flex-direction: column;z-index: 1;position: relative;background-color: white;}#sk-container-id-2 div.sk-parallel-item:first-child::after {align-self: flex-end;width: 50%;}#sk-container-id-2 div.sk-parallel-item:last-child::after {align-self: flex-start;width: 50%;}#sk-container-id-2 div.sk-parallel-item:only-child::after {width: 0;}#sk-container-id-2 div.sk-dashed-wrapped {border: 1px dashed gray;margin: 0 0.4em 0.5em 0.4em;box-sizing: border-box;padding-bottom: 0.4em;background-color: white;}#sk-container-id-2 div.sk-label label {font-family: monospace;font-weight: bold;display: inline-block;line-height: 1.2em;}#sk-container-id-2 div.sk-label-container {text-align: center;}#sk-container-id-2 div.sk-container {/* jupyter's `normalize.less` sets `[hidden] { display: none; }` but bootstrap.min.css set `[hidden] { display: none !important; }` so we also need the `!important` here to be able to override the default hidden behavior on the sphinx rendered scikit-learn.org. See: https://github.com/scikit-learn/scikit-learn/issues/21755 */display: inline-block !important;position: relative;}#sk-container-id-2 div.sk-text-repr-fallback {display: none;}</style><div id=\"sk-container-id-2\" class=\"sk-top-container\"><div class=\"sk-text-repr-fallback\"><pre>BaggingClassifier(base_estimator=RandomForestClassifier(), n_estimators=5,\n",
       "                  random_state=14)</pre><b>In a Jupyter environment, please rerun this cell to show the HTML representation or trust the notebook. <br />On GitHub, the HTML representation is unable to render, please try loading this page with nbviewer.org.</b></div><div class=\"sk-container\" hidden><div class=\"sk-item sk-dashed-wrapped\"><div class=\"sk-label-container\"><div class=\"sk-label sk-toggleable\"><input class=\"sk-toggleable__control sk-hidden--visually\" id=\"sk-estimator-id-6\" type=\"checkbox\" ><label for=\"sk-estimator-id-6\" class=\"sk-toggleable__label sk-toggleable__label-arrow\">BaggingClassifier</label><div class=\"sk-toggleable__content\"><pre>BaggingClassifier(base_estimator=RandomForestClassifier(), n_estimators=5,\n",
       "                  random_state=14)</pre></div></div></div><div class=\"sk-parallel\"><div class=\"sk-parallel-item\"><div class=\"sk-item\"><div class=\"sk-label-container\"><div class=\"sk-label sk-toggleable\"><input class=\"sk-toggleable__control sk-hidden--visually\" id=\"sk-estimator-id-7\" type=\"checkbox\" ><label for=\"sk-estimator-id-7\" class=\"sk-toggleable__label sk-toggleable__label-arrow\">base_estimator: RandomForestClassifier</label><div class=\"sk-toggleable__content\"><pre>RandomForestClassifier()</pre></div></div></div><div class=\"sk-serial\"><div class=\"sk-item\"><div class=\"sk-estimator sk-toggleable\"><input class=\"sk-toggleable__control sk-hidden--visually\" id=\"sk-estimator-id-8\" type=\"checkbox\" ><label for=\"sk-estimator-id-8\" class=\"sk-toggleable__label sk-toggleable__label-arrow\">RandomForestClassifier</label><div class=\"sk-toggleable__content\"><pre>RandomForestClassifier()</pre></div></div></div></div></div></div></div></div></div></div>"
      ],
      "text/plain": [
       "BaggingClassifier(base_estimator=RandomForestClassifier(), n_estimators=5,\n",
       "                  random_state=14)"
      ]
     },
     "execution_count": 64,
     "metadata": {},
     "output_type": "execute_result"
    }
   ],
   "source": [
    "# bagging classifier\n",
    "from sklearn.ensemble import BaggingClassifier\n",
    "bg=BaggingClassifier(base_estimator=r,n_estimators=5,random_state=14)\n",
    "bg.fit(x_train,y_train)"
   ]
  },
  {
   "cell_type": "code",
   "execution_count": 65,
   "id": "2d8a6e8d",
   "metadata": {},
   "outputs": [
    {
     "name": "stdout",
     "output_type": "stream",
     "text": [
      "78.5\n"
     ]
    }
   ],
   "source": [
    "from sklearn.metrics import accuracy_score\n",
    "bg_vote=bg.predict(x_test)\n",
    "bg1_vote=accuracy_score(y_test,bg_vote)*100\n",
    "print(bg1_vote)"
   ]
  },
  {
   "cell_type": "code",
   "execution_count": 66,
   "id": "8a2b1d90",
   "metadata": {},
   "outputs": [
    {
     "name": "stdout",
     "output_type": "stream",
     "text": [
      "[0.78125 0.85    0.79375 0.81875 0.84375]\n",
      "Y data Counter:  Counter({1: 100, 0: 100})\n",
      "[0.825   0.825   0.83125 0.78125 0.7875 ]\n",
      "Y data Counter:  Counter({0: 100, 1: 100})\n",
      "[0.8625  0.80625 0.75    0.84375 0.84375]\n",
      "Y data Counter:  Counter({0: 100, 1: 100})\n",
      "[0.80625 0.80625 0.78125 0.75625 0.8375 ]\n",
      "Y data Counter:  Counter({1: 100, 0: 100})\n",
      "[0.825   0.80625 0.825   0.80625 0.83125]\n",
      "Y data Counter:  Counter({1: 100, 0: 100})\n"
     ]
    }
   ],
   "source": [
    "for train_data,test_data in skf.split(x_data,y_data):\n",
    "    x_train,x_test=x_data[train_data],x_data[test_data]\n",
    "    y_train,y_test=y_data[train_data],y_data[test_data]\n",
    "    from sklearn.ensemble import BaggingClassifier\n",
    "    bg=BaggingClassifier(base_estimator=r,n_estimators=5,random_state=14)\n",
    "    bg.fit(x_train,y_train)\n",
    "#     bg_vote=bg.predict(x_test)\n",
    "#     print(\"Voting Classifier\",bg_vote)\n",
    "    scores=cross_val_score(r,x_train,y_train,cv=skf)\n",
    "    print(scores)\n",
    "    print(\"Y data Counter: \",Counter(y_test))"
   ]
  },
  {
   "cell_type": "code",
   "execution_count": 73,
   "id": "3423010b",
   "metadata": {},
   "outputs": [],
   "source": [
    "xsample=data.iloc[5:10,:-1]\n",
    "ysample=data.iloc[5:10,-1]\n"
   ]
  },
  {
   "cell_type": "code",
   "execution_count": 81,
   "id": "e0e9c1a9",
   "metadata": {},
   "outputs": [
    {
     "name": "stderr",
     "output_type": "stream",
     "text": [
      "C:\\Users\\pc\\anaconda3\\lib\\site-packages\\sklearn\\base.py:443: UserWarning: X has feature names, but RandomForestClassifier was fitted without feature names\n",
      "  warnings.warn(\n"
     ]
    },
    {
     "data": {
      "text/plain": [
       "array([1, 1, 1, 1, 1], dtype=int64)"
      ]
     },
     "execution_count": 81,
     "metadata": {},
     "output_type": "execute_result"
    }
   ],
   "source": [
    "y_pred=r.predict(xsample)\n",
    "y_pred"
   ]
  },
  {
   "cell_type": "code",
   "execution_count": 77,
   "id": "7b2fef8b",
   "metadata": {},
   "outputs": [
    {
     "data": {
      "text/plain": [
       "5    0\n",
       "6    1\n",
       "7    0\n",
       "8    1\n",
       "9    1\n",
       "Name: Outcome, dtype: int64"
      ]
     },
     "execution_count": 77,
     "metadata": {},
     "output_type": "execute_result"
    }
   ],
   "source": [
    "ysample"
   ]
  },
  {
   "cell_type": "code",
   "execution_count": null,
   "id": "b3868c74",
   "metadata": {},
   "outputs": [],
   "source": []
  }
 ],
 "metadata": {
  "kernelspec": {
   "display_name": "Python 3 (ipykernel)",
   "language": "python",
   "name": "python3"
  },
  "language_info": {
   "codemirror_mode": {
    "name": "ipython",
    "version": 3
   },
   "file_extension": ".py",
   "mimetype": "text/x-python",
   "name": "python",
   "nbconvert_exporter": "python",
   "pygments_lexer": "ipython3",
   "version": "3.9.13"
  }
 },
 "nbformat": 4,
 "nbformat_minor": 5
}
