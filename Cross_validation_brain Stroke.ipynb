{
 "cells": [
  {
   "cell_type": "code",
   "execution_count": 3,
   "id": "b0380c09",
   "metadata": {},
   "outputs": [],
   "source": [
    "import numpy as np\n",
    "import pandas as pd"
   ]
  },
  {
   "cell_type": "code",
   "execution_count": 4,
   "id": "a68071d5",
   "metadata": {},
   "outputs": [
    {
     "data": {
      "text/html": [
       "<div>\n",
       "<style scoped>\n",
       "    .dataframe tbody tr th:only-of-type {\n",
       "        vertical-align: middle;\n",
       "    }\n",
       "\n",
       "    .dataframe tbody tr th {\n",
       "        vertical-align: top;\n",
       "    }\n",
       "\n",
       "    .dataframe thead th {\n",
       "        text-align: right;\n",
       "    }\n",
       "</style>\n",
       "<table border=\"1\" class=\"dataframe\">\n",
       "  <thead>\n",
       "    <tr style=\"text-align: right;\">\n",
       "      <th></th>\n",
       "      <th>gender</th>\n",
       "      <th>age</th>\n",
       "      <th>hypertension</th>\n",
       "      <th>heart_disease</th>\n",
       "      <th>ever_married</th>\n",
       "      <th>work_type</th>\n",
       "      <th>Residence_type</th>\n",
       "      <th>avg_glucose_level</th>\n",
       "      <th>bmi</th>\n",
       "      <th>smoking_status</th>\n",
       "      <th>stroke</th>\n",
       "    </tr>\n",
       "  </thead>\n",
       "  <tbody>\n",
       "    <tr>\n",
       "      <th>0</th>\n",
       "      <td>Male</td>\n",
       "      <td>67.0</td>\n",
       "      <td>0</td>\n",
       "      <td>1</td>\n",
       "      <td>Yes</td>\n",
       "      <td>Private</td>\n",
       "      <td>Urban</td>\n",
       "      <td>228.69</td>\n",
       "      <td>36.6</td>\n",
       "      <td>formerly smoked</td>\n",
       "      <td>1</td>\n",
       "    </tr>\n",
       "    <tr>\n",
       "      <th>1</th>\n",
       "      <td>Male</td>\n",
       "      <td>80.0</td>\n",
       "      <td>0</td>\n",
       "      <td>1</td>\n",
       "      <td>Yes</td>\n",
       "      <td>Private</td>\n",
       "      <td>Rural</td>\n",
       "      <td>105.92</td>\n",
       "      <td>32.5</td>\n",
       "      <td>never smoked</td>\n",
       "      <td>1</td>\n",
       "    </tr>\n",
       "    <tr>\n",
       "      <th>2</th>\n",
       "      <td>Female</td>\n",
       "      <td>49.0</td>\n",
       "      <td>0</td>\n",
       "      <td>0</td>\n",
       "      <td>Yes</td>\n",
       "      <td>Private</td>\n",
       "      <td>Urban</td>\n",
       "      <td>171.23</td>\n",
       "      <td>34.4</td>\n",
       "      <td>smokes</td>\n",
       "      <td>1</td>\n",
       "    </tr>\n",
       "    <tr>\n",
       "      <th>3</th>\n",
       "      <td>Female</td>\n",
       "      <td>79.0</td>\n",
       "      <td>1</td>\n",
       "      <td>0</td>\n",
       "      <td>Yes</td>\n",
       "      <td>Self-employed</td>\n",
       "      <td>Rural</td>\n",
       "      <td>174.12</td>\n",
       "      <td>24.0</td>\n",
       "      <td>never smoked</td>\n",
       "      <td>1</td>\n",
       "    </tr>\n",
       "    <tr>\n",
       "      <th>4</th>\n",
       "      <td>Male</td>\n",
       "      <td>81.0</td>\n",
       "      <td>0</td>\n",
       "      <td>0</td>\n",
       "      <td>Yes</td>\n",
       "      <td>Private</td>\n",
       "      <td>Urban</td>\n",
       "      <td>186.21</td>\n",
       "      <td>29.0</td>\n",
       "      <td>formerly smoked</td>\n",
       "      <td>1</td>\n",
       "    </tr>\n",
       "  </tbody>\n",
       "</table>\n",
       "</div>"
      ],
      "text/plain": [
       "   gender   age  hypertension  heart_disease ever_married      work_type  \\\n",
       "0    Male  67.0             0              1          Yes        Private   \n",
       "1    Male  80.0             0              1          Yes        Private   \n",
       "2  Female  49.0             0              0          Yes        Private   \n",
       "3  Female  79.0             1              0          Yes  Self-employed   \n",
       "4    Male  81.0             0              0          Yes        Private   \n",
       "\n",
       "  Residence_type  avg_glucose_level   bmi   smoking_status  stroke  \n",
       "0          Urban             228.69  36.6  formerly smoked       1  \n",
       "1          Rural             105.92  32.5     never smoked       1  \n",
       "2          Urban             171.23  34.4           smokes       1  \n",
       "3          Rural             174.12  24.0     never smoked       1  \n",
       "4          Urban             186.21  29.0  formerly smoked       1  "
      ]
     },
     "execution_count": 4,
     "metadata": {},
     "output_type": "execute_result"
    }
   ],
   "source": [
    "data=pd.read_csv(r\"E:\\Datasets\\brain_stroke.csv\")\n",
    "data.head()"
   ]
  },
  {
   "cell_type": "code",
   "execution_count": 5,
   "id": "d337fd4d",
   "metadata": {},
   "outputs": [
    {
     "data": {
      "text/plain": [
       "gender               0\n",
       "age                  0\n",
       "hypertension         0\n",
       "heart_disease        0\n",
       "ever_married         0\n",
       "work_type            0\n",
       "Residence_type       0\n",
       "avg_glucose_level    0\n",
       "bmi                  0\n",
       "smoking_status       0\n",
       "stroke               0\n",
       "dtype: int64"
      ]
     },
     "execution_count": 5,
     "metadata": {},
     "output_type": "execute_result"
    }
   ],
   "source": [
    "data.isna().sum()"
   ]
  },
  {
   "cell_type": "code",
   "execution_count": 6,
   "id": "4bd9495e",
   "metadata": {},
   "outputs": [
    {
     "data": {
      "text/plain": [
       "0    4733\n",
       "1     248\n",
       "Name: stroke, dtype: int64"
      ]
     },
     "execution_count": 6,
     "metadata": {},
     "output_type": "execute_result"
    }
   ],
   "source": [
    "data.stroke.value_counts()"
   ]
  },
  {
   "cell_type": "code",
   "execution_count": 7,
   "id": "ab8cdbe9",
   "metadata": {},
   "outputs": [],
   "source": [
    "x=data.iloc[:,[1,2,3,7,8]]\n",
    "y=data.iloc[:,-1]\n"
   ]
  },
  {
   "cell_type": "code",
   "execution_count": 8,
   "id": "623258c2",
   "metadata": {},
   "outputs": [
    {
     "name": "stdout",
     "output_type": "stream",
     "text": [
      "Counter({1: 4733, 0: 4733})\n"
     ]
    }
   ],
   "source": [
    "# Data Imbalancing\n",
    "from imblearn.over_sampling import RandomOverSampler\n",
    "from collections import Counter\n",
    "ro=RandomOverSampler()\n",
    "x_resample,y_resample=ro.fit_resample(x,y)\n",
    "print(Counter(y_resample))"
   ]
  },
  {
   "cell_type": "code",
   "execution_count": 57,
   "id": "5d6632e2",
   "metadata": {},
   "outputs": [
    {
     "data": {
      "text/plain": [
       "array([[ 0.54041876, -0.4594621 ,  2.78363318,  1.95125923,  1.13229791],\n",
       "       [ 1.12620824, -0.4594621 ,  2.78363318, -0.24569436,  0.4895363 ],\n",
       "       [-0.27067436, -0.4594621 , -0.35924274,  0.92301981,  0.78740144],\n",
       "       ...,\n",
       "       [ 0.27005439, -0.4594621 , -0.35924274,  1.47740298,  0.34844229],\n",
       "       [ 0.99102605, -0.4594621 , -0.35924274, -0.25822077,  0.25437962],\n",
       "       [ 1.03608678, -0.4594621 , -0.35924274, -1.09301661, -0.81166403]])"
      ]
     },
     "execution_count": 57,
     "metadata": {},
     "output_type": "execute_result"
    }
   ],
   "source": [
    "# Feature Scaling by StandardScaler()\n",
    "from sklearn.preprocessing import StandardScaler\n",
    "ss=StandardScaler()\n",
    "x_data=ss.fit_transform(x_resample)\n",
    "x_data"
   ]
  },
  {
   "cell_type": "code",
   "execution_count": 63,
   "id": "a6dabf56",
   "metadata": {},
   "outputs": [],
   "source": [
    "y_data=y_resample"
   ]
  },
  {
   "cell_type": "code",
   "execution_count": 64,
   "id": "bec08d0e",
   "metadata": {},
   "outputs": [],
   "source": [
    "# slpit data into train and test\n",
    "from sklearn.model_selection import train_test_split\n",
    "x_train,x_test,y_train,y_test=train_test_split(x_data,y_data,test_size=0.2,random_state=100)\n"
   ]
  },
  {
   "cell_type": "code",
   "execution_count": 65,
   "id": "cd92371e",
   "metadata": {},
   "outputs": [
    {
     "name": "stdout",
     "output_type": "stream",
     "text": [
      "Counter({0: 3792, 1: 3780})\n",
      "Counter({1: 953, 0: 941})\n"
     ]
    }
   ],
   "source": [
    "print(Counter(y_train))\n",
    "print(Counter(y_test))"
   ]
  },
  {
   "cell_type": "code",
   "execution_count": 66,
   "id": "7844cae5",
   "metadata": {},
   "outputs": [
    {
     "name": "stdout",
     "output_type": "stream",
     "text": [
      "KFold(n_splits=5, random_state=100, shuffle=True)\n"
     ]
    }
   ],
   "source": [
    "# Model Imbalancing--> Cross_validation\n",
    "from sklearn.model_selection import KFold\n",
    "kf=KFold(n_splits=5,random_state=100,shuffle=True)\n",
    "kf.get_n_splits(x_data)\n",
    "print(kf)"
   ]
  },
  {
   "cell_type": "code",
   "execution_count": 67,
   "id": "afb04a8b",
   "metadata": {},
   "outputs": [],
   "source": [
    "from sklearn.model_selection import cross_val_score\n",
    "from sklearn.model_selection import cross_val_predict\n",
    "from sklearn.linear_model import LogisticRegression\n",
    "l1=LogisticRegression()"
   ]
  },
  {
   "cell_type": "code",
   "execution_count": 68,
   "id": "f2e811a2",
   "metadata": {},
   "outputs": [
    {
     "name": "stdout",
     "output_type": "stream",
     "text": [
      "[0.77227723 0.75841584 0.77146631 0.78996037 0.79326288]\n",
      "[0 1 1 ... 1 0 1]\n"
     ]
    }
   ],
   "source": [
    "# Without Iteration based cross validation\n",
    "scores=cross_val_score(l1,x_train,y_train,cv=kf)\n",
    "y_pred=cross_val_predict(l1,x_test,y_test,cv=kf)\n",
    "print(scores)\n",
    "print(y_pred)"
   ]
  },
  {
   "cell_type": "code",
   "execution_count": 108,
   "id": "9e120355",
   "metadata": {},
   "outputs": [
    {
     "name": "stdout",
     "output_type": "stream",
     "text": [
      "Checking Balancing y test.......: Counter({1: 953, 0: 941})\n",
      "[1 0 0 ... 1 1 1]\n",
      "[0.77359736 0.77821782 0.77410832 0.76948481 0.78665786]\n",
      "77.64132344542249\n",
      "Checking Balancing y test.......: Counter({0: 969, 1: 924})\n",
      "[1 1 1 ... 0 1 1]\n",
      "[0.78085809 0.77161716 0.76963696 0.77212682 0.77939234]\n",
      "77.47262731557171\n",
      "Checking Balancing y test.......: Counter({1: 957, 0: 936})\n",
      "[1 1 1 ... 1 1 1]\n",
      "[0.78613861 0.76171617 0.77821782 0.76882431 0.77939234]\n",
      "77.4857850382132\n",
      "Checking Balancing y test.......: Counter({0: 947, 1: 946})\n",
      "[1 1 1 ... 0 1 1]\n",
      "[0.77029703 0.78415842 0.77887789 0.78005284 0.75495376]\n",
      "77.36679876706297\n",
      "Checking Balancing y test.......: Counter({1: 953, 0: 940})\n",
      "[0 1 1 ... 1 1 1]\n",
      "[0.76435644 0.78019802 0.78745875 0.7661823  0.78467635]\n",
      "77.6574370779218\n"
     ]
    }
   ],
   "source": [
    "kx_train_data=[]\n",
    "kx_test_data=[]\n",
    "ky_train_data=[]\n",
    "ky_test_data=[]\n",
    "for train_data,test_data in kf.split(x_data):\n",
    "    x_train,x_test=x_data[train_data],x_data[test_data]\n",
    "    y_train,y_test=y_data[train_data],y_data[test_data]\n",
    "    scores=cross_val_score(l1,x_train,y_train,cv=kf)\n",
    "    y_pred=cross_val_predict(l1,x_test,y_test,cv=kf)\n",
    "    kx_train_data.append(x_train)\n",
    "    kx_test_data.append(x_test)\n",
    "    ky_train_data.append(y_train)\n",
    "    ky_test_data.append(y_test)\n",
    "    print(\"Checking Balancing y test.......:\",Counter(y_test))\n",
    "    print(y_pred)\n",
    "    print(scores)\n",
    "    print(np.mean(scores)*100)\n",
    "\n",
    "    "
   ]
  },
  {
   "cell_type": "code",
   "execution_count": 114,
   "id": "756dadb3",
   "metadata": {},
   "outputs": [
    {
     "name": "stdout",
     "output_type": "stream",
     "text": [
      "Checking y_test Balancing: Counter({1: 953, 0: 941})\n",
      "Checking y_train Balancing: Counter({0: 3792, 1: 3780})\n",
      "[0.77359736 0.77821782 0.77410832 0.76948481 0.78665786]\n",
      "----------------------------------------------------------\n",
      "Checking y_test Balancing: Counter({0: 969, 1: 924})\n",
      "Checking y_train Balancing: Counter({1: 3809, 0: 3764})\n",
      "[0.78085809 0.77161716 0.76963696 0.77212682 0.77939234]\n",
      "----------------------------------------------------------\n",
      "Checking y_test Balancing: Counter({1: 957, 0: 936})\n",
      "Checking y_train Balancing: Counter({0: 3797, 1: 3776})\n",
      "[0.78613861 0.76171617 0.77821782 0.76882431 0.77939234]\n",
      "----------------------------------------------------------\n",
      "Checking y_test Balancing: Counter({0: 947, 1: 946})\n",
      "Checking y_train Balancing: Counter({1: 3787, 0: 3786})\n",
      "[0.77029703 0.78415842 0.77887789 0.78005284 0.75495376]\n",
      "----------------------------------------------------------\n",
      "Checking y_test Balancing: Counter({1: 953, 0: 940})\n",
      "Checking y_train Balancing: Counter({0: 3793, 1: 3780})\n",
      "[0.76435644 0.78019802 0.78745875 0.7661823  0.78467635]\n",
      "----------------------------------------------------------\n"
     ]
    }
   ],
   "source": [
    "for train_data,test_data in kf.split(x_data,y_data):\n",
    "    x_train,x_test=x_data[train_data],x_data[test_data]\n",
    "    y_train,y_test=y_data[train_data],y_data[test_data]\n",
    "    scores=cross_val_score(l1,x_train,y_train,cv=kf)\n",
    "    y_pred=cross_val_predict(l1,x_test,y_test,cv=kf)\n",
    "    print(\"Checking y_test Balancing:\",Counter(y_test))\n",
    "    print(\"Checking y_train Balancing:\",Counter(y_train))\n",
    "    print(scores)\n",
    "    print(\"----------------------------------------------------------\")"
   ]
  },
  {
   "cell_type": "code",
   "execution_count": 16,
   "id": "bd99201d",
   "metadata": {},
   "outputs": [],
   "source": [
    "# 0: 955, 1: 42  --> 94.82\n",
    "# 0: 944, 1: 52  --> 95.08\n",
    "# 0: 954, 1: 42  --> 94.83\n",
    "# 0: 935, 1: 61  --> 95.30\n",
    "# 0: 945, 1: 51 --> 95.05"
   ]
  },
  {
   "cell_type": "markdown",
   "id": "503bbbfd",
   "metadata": {},
   "source": [
    "### StratifiedKFold Cross Validation"
   ]
  },
  {
   "cell_type": "code",
   "execution_count": 75,
   "id": "83856112",
   "metadata": {},
   "outputs": [
    {
     "name": "stdout",
     "output_type": "stream",
     "text": [
      "StratifiedKFold(n_splits=5, random_state=100, shuffle=True)\n"
     ]
    }
   ],
   "source": [
    "from sklearn.model_selection import StratifiedKFold\n",
    "skf=StratifiedKFold(n_splits=5,random_state=100,shuffle=True)\n",
    "skf.get_n_splits(x_data,y_data)\n",
    "print(skf)"
   ]
  },
  {
   "cell_type": "code",
   "execution_count": 93,
   "id": "781b0dd3",
   "metadata": {},
   "outputs": [],
   "source": [
    "from sklearn.model_selection import cross_val_score\n",
    "from sklearn.model_selection import cross_val_predict\n",
    "from sklearn.linear_model import LogisticRegression\n",
    "l1=LogisticRegression()"
   ]
  },
  {
   "cell_type": "code",
   "execution_count": 94,
   "id": "3d4a3060",
   "metadata": {},
   "outputs": [
    {
     "name": "stdout",
     "output_type": "stream",
     "text": [
      "[0.76567657 0.76633663 0.78745875 0.78533686 0.78137384]\n",
      "[1 1 1 ... 1 1 1]\n"
     ]
    }
   ],
   "source": [
    "scores=cross_val_score(l1,x_train,y_train,cv=skf)\n",
    "y_pred=cross_val_predict(l1,x_test,y_test,cv=skf)\n",
    "print(scores)\n",
    "print(y_pred)"
   ]
  },
  {
   "cell_type": "code",
   "execution_count": 95,
   "id": "a1424436",
   "metadata": {},
   "outputs": [
    {
     "name": "stdout",
     "output_type": "stream",
     "text": [
      "Checking Balancing.......: Counter({0: 947, 1: 946})\n",
      "[1 1 1 ... 1 1 1]\n",
      "[0.76567657 0.76633663 0.78745875 0.78533686 0.78137384]\n",
      "77.72365294653639\n",
      "Checking Balancing.......: Counter({0: 947, 1: 946})\n",
      "[1 1 1 ... 1 1 1]\n",
      "[0.76567657 0.76633663 0.78745875 0.78533686 0.78137384]\n",
      "77.72365294653639\n",
      "Checking Balancing.......: Counter({0: 947, 1: 946})\n",
      "[1 1 1 ... 1 1 1]\n",
      "[0.76567657 0.76633663 0.78745875 0.78533686 0.78137384]\n",
      "77.72365294653639\n",
      "Checking Balancing.......: Counter({0: 947, 1: 946})\n",
      "[1 1 1 ... 1 1 1]\n",
      "[0.76567657 0.76633663 0.78745875 0.78533686 0.78137384]\n",
      "77.72365294653639\n",
      "Checking Balancing.......: Counter({0: 947, 1: 946})\n",
      "[1 1 1 ... 1 1 1]\n",
      "[0.76567657 0.76633663 0.78745875 0.78533686 0.78137384]\n",
      "77.72365294653639\n"
     ]
    }
   ],
   "source": [
    "kx_train_data=[]\n",
    "kx_test_data=[]\n",
    "ky_train_data=[]\n",
    "ky_test_data=[]\n",
    "for train_data,test_data in skf.split(x_data,y_data):\n",
    "    x1_train,x1_test=x_data[train_data],x_data[test_data]\n",
    "    y1_train,y1_test=y_data[train_data],y_data[test_data]\n",
    "    scores=cross_val_score(l1,x_train,y_train,cv=skf)\n",
    "    y_pred=cross_val_predict(l1,x_test,y_test,cv=skf)\n",
    "    kx_train_data.append(x_train)\n",
    "    kx_test_data.append(x_test)\n",
    "    ky_train_data.append(y_train)\n",
    "    ky_test_data.append(y_test)\n",
    "    print(\"Checking Balancing.......:\",Counter(y_test))\n",
    "    print(y_pred)\n",
    "    print(scores)\n",
    "    print(np.mean(scores)*100)"
   ]
  },
  {
   "cell_type": "code",
   "execution_count": 52,
   "id": "7eed56b7",
   "metadata": {},
   "outputs": [],
   "source": [
    "d1=pd.Series.to_frame(pd.Series(kx_test_data))\n",
    "d2=pd.Series.to_frame(pd.Series(ky_test_data))"
   ]
  },
  {
   "cell_type": "code",
   "execution_count": 104,
   "id": "a75d5293",
   "metadata": {},
   "outputs": [
    {
     "name": "stdout",
     "output_type": "stream",
     "text": [
      "Checking y_test Balancing: Counter({1: 947, 0: 947})\n",
      "Checking y_train Balancing: Counter({1: 3786, 0: 3786})\n",
      "[0.77887789 0.77359736 0.77542933 0.77476882 0.78203435]\n",
      "----------------------------------------------------\n",
      "Checking y_test Balancing: Counter({1: 947, 0: 946})\n",
      "Checking y_train Balancing: Counter({0: 3787, 1: 3786})\n",
      "[0.79273927 0.78283828 0.76039604 0.76882431 0.76155878]\n",
      "----------------------------------------------------\n",
      "Checking y_test Balancing: Counter({1: 947, 0: 946})\n",
      "Checking y_train Balancing: Counter({0: 3787, 1: 3786})\n",
      "[0.78151815 0.79207921 0.79009901 0.75033025 0.76155878]\n",
      "----------------------------------------------------\n",
      "Checking y_test Balancing: Counter({0: 947, 1: 946})\n",
      "Checking y_train Balancing: Counter({1: 3787, 0: 3786})\n",
      "[0.76171617 0.76369637 0.78481848 0.7681638  0.79656539]\n",
      "----------------------------------------------------\n",
      "Checking y_test Balancing: Counter({0: 947, 1: 946})\n",
      "Checking y_train Balancing: Counter({1: 3787, 0: 3786})\n",
      "[0.76567657 0.76633663 0.78745875 0.78533686 0.78137384]\n",
      "----------------------------------------------------\n"
     ]
    }
   ],
   "source": [
    "for train_data,test_data in skf.split(x_data,y_data):\n",
    "    x_train,x_test=x_data[train_data],x_data[test_data]\n",
    "    y_train,y_test=y_data[train_data],y_data[test_data]\n",
    "    scores=cross_val_score(l1,x_train,y_train,cv=skf)\n",
    "    y_pred=cross_val_predict(l1,x_test,y_test,cv=skf)\n",
    "    print(\"Checking y_test Balancing:\",Counter(y_test))\n",
    "    print(\"Checking y_train Balancing:\",Counter(y_train))\n",
    "    print(scores)\n",
    "    print(\"----------------------------------------------------------\")"
   ]
  },
  {
   "cell_type": "code",
   "execution_count": 111,
   "id": "a9225a47",
   "metadata": {},
   "outputs": [
    {
     "data": {
      "text/plain": [
       "5"
      ]
     },
     "execution_count": 111,
     "metadata": {},
     "output_type": "execute_result"
    }
   ],
   "source": [
    "from sklearn.model_selection import ShuffleSplit\n",
    "sf = ShuffleSplit(n_splits=5, test_size=0.2, random_state=0)\n",
    "sf.get_n_splits(x_data,y_data)"
   ]
  },
  {
   "cell_type": "code",
   "execution_count": 113,
   "id": "40ed7fad",
   "metadata": {},
   "outputs": [
    {
     "name": "stdout",
     "output_type": "stream",
     "text": [
      "Checking y_test Balancing: Counter({1: 950, 0: 944})\n",
      "Checking y_train Balancing: Counter({0: 3789, 1: 3783})\n",
      "77.61056105610561\n",
      "[0.7709571  0.79207921 0.77557756 0.77293729 0.7689769 ]\n",
      "----------------------------------------------\n",
      "Checking y_test Balancing: Counter({0: 954, 1: 940})\n",
      "Checking y_train Balancing: Counter({1: 3793, 0: 3779})\n",
      "76.14521452145215\n",
      "[0.77623762 0.75643564 0.76435644 0.75709571 0.75313531]\n",
      "----------------------------------------------\n",
      "Checking y_test Balancing: Counter({0: 962, 1: 932})\n",
      "Checking y_train Balancing: Counter({1: 3801, 0: 3771})\n",
      "77.62376237623762\n",
      "[0.7709571  0.78217822 0.77755776 0.77623762 0.77425743]\n",
      "----------------------------------------------\n",
      "Checking y_test Balancing: Counter({0: 988, 1: 906})\n",
      "Checking y_train Balancing: Counter({1: 3827, 0: 3745})\n",
      "78.21782178217822\n",
      "[0.79009901 0.78481848 0.76765677 0.78283828 0.78547855]\n",
      "----------------------------------------------\n",
      "Checking y_test Balancing: Counter({0: 968, 1: 926})\n",
      "Checking y_train Balancing: Counter({1: 3807, 0: 3765})\n",
      "78.21782178217822\n",
      "[0.7650165  0.79537954 0.78415842 0.77623762 0.79009901]\n",
      "----------------------------------------------\n"
     ]
    }
   ],
   "source": [
    "for train_data,test_data in sf.split(x_data,y_data):\n",
    "    x_train,x_test=x_data[train_data],x_data[test_data]\n",
    "    y_train,y_test=y_data[train_data],y_data[test_data]\n",
    "    scores=cross_val_score(l1, x_train, y_train, cv=sf)\n",
    "    y_pred=cross_val_predict(l1,x_test,y_test,cv=skf)\n",
    "    print(\"Checking y_test Balancing:\",Counter(y_test))\n",
    "    print(\"Checking y_train Balancing:\",Counter(y_train))\n",
    "    print(np.mean(scores)*100)\n",
    "    print(scores)\n",
    "    print(\"----------------------------------------------\")\n",
    "#     y_pred=cross_val_predict(l1,x_test,y_test,cv=sf)\n",
    "#     print(Counter(y_test))"
   ]
  },
  {
   "cell_type": "code",
   "execution_count": 86,
   "id": "43e7b4ca",
   "metadata": {},
   "outputs": [
    {
     "data": {
      "text/plain": [
       "<generator object _BaseKFold.split at 0x000001A1D151C270>"
      ]
     },
     "execution_count": 86,
     "metadata": {},
     "output_type": "execute_result"
    }
   ],
   "source": [
    "kf.split(x)"
   ]
  },
  {
   "cell_type": "code",
   "execution_count": 88,
   "id": "5c006034",
   "metadata": {},
   "outputs": [
    {
     "data": {
      "text/plain": [
       "<generator object _BaseKFold.split at 0x000001A1D151C120>"
      ]
     },
     "execution_count": 88,
     "metadata": {},
     "output_type": "execute_result"
    }
   ],
   "source": [
    "skf.split(x,y)"
   ]
  },
  {
   "cell_type": "code",
   "execution_count": null,
   "id": "873cdd04",
   "metadata": {},
   "outputs": [],
   "source": []
  }
 ],
 "metadata": {
  "kernelspec": {
   "display_name": "Python 3 (ipykernel)",
   "language": "python",
   "name": "python3"
  },
  "language_info": {
   "codemirror_mode": {
    "name": "ipython",
    "version": 3
   },
   "file_extension": ".py",
   "mimetype": "text/x-python",
   "name": "python",
   "nbconvert_exporter": "python",
   "pygments_lexer": "ipython3",
   "version": "3.9.13"
  }
 },
 "nbformat": 4,
 "nbformat_minor": 5
}
